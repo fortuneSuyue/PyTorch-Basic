{
 "cells": [
  {
   "cell_type": "markdown",
   "metadata": {
    "colab_type": "text",
    "id": "SzhPPNJoQqJ7"
   },
   "source": [
    "# Convolutional Neural Network\n",
    "\n",
    "### Contents\n",
    "    1. Introduction\n",
    "    2. Import Libraries\n",
    "    3. Dataset with CIFAR10\n",
    "    4. Build Convolutional Neural Network\n",
    "    5. Train the Model\n",
    "    6. Test the Model\n",
    "    7. Save the Model"
   ]
  },
  {
   "cell_type": "markdown",
   "metadata": {
    "colab_type": "text",
    "id": "9nYhz3SnQqKC"
   },
   "source": [
    "## 1. Introduction\n",
    "**Convolutional Neural Network**, often abbreviated as **CNN**, is one kind of deep neural network which is commonly applied to visaul information processing. It typically consists of convolutional layers that extracts features from images, pooling layers that reduces the dimension of data, and fully connected layers that are used to classifies the images. The below image describes the aforementioned architecture. Conv layer and pooling layer compose of feature extraction layers and fully connected layer is called as classification layer."
   ]
  },
  {
   "cell_type": "markdown",
   "metadata": {
    "colab_type": "text",
    "id": "nE1tO6X8QqKF"
   },
   "source": [
    ![CNN_Architecture](./Images/CNN_Architecture.png)
   ]
  },
  {
   "cell_type": "markdown",
   "metadata": {
    "colab_type": "text",
    "id": "WvVFX-bxQqKL"
   },
   "source": [
    "Image source: https://www.researchgate.net/figure/An-example-of-CNN-architecture_fig1_320748406 <br></br>\n",
    "<br> The main characteristics of CNN follows; </br>\n",
    "* Maintain shape of input/output data of each layer\n",
    "* Effectively recognize features of adjacent images while maintaining spatial information of the images\n",
    "* Extract and learn features of an image with multiple filters\n",
    "* Pooling layer to collect and enhace features of extracted images\n",
    "* Filter used as a shared parameters, fewer parameters compared to general deep neural networks\n",
    "\n",
    "<br>The detailed information on CNN can be found from: http://cs231n.github.io/convolutional-networks/ </br>"
   ]
  },
  {
   "cell_type": "markdown",
   "metadata": {
    "colab_type": "text",
    "id": "tqxkNq-lQqKP"
   },
   "source": [
    "## 2. Import Libraries"
   ]
  },
  {
   "cell_type": "code",
   "execution_count": 0,
   "metadata": {
    "colab": {},
    "colab_type": "code",
    "id": "ECWmhAq6QqKS"
   },
   "outputs": [],
   "source": [
    "import torch\n",
    "import torch.nn as nn\n",
    "import torch.optim as optim\n",
    "from torch.utils.data import DataLoader\n",
    "\n",
    "import torchvision\n",
    "import torchvision.datasets as datasets\n",
    "import torchvision.transforms as transforms\n",
    "import torchvision.utils as vutils\n",
    "\n",
    "import numpy as np\n",
    "import matplotlib.pyplot as plt\n",
    "import os\n",
    "import warnings\n",
    "warnings.filterwarnings('ignore')"
   ]
  },
  {
   "cell_type": "code",
   "execution_count": 2,
   "metadata": {
    "colab": {
     "base_uri": "https://localhost:8080/",
     "height": 35
    },
    "colab_type": "code",
    "id": "c5ZUN-WaQqKc",
    "outputId": "c4c4702d-d332-4073-8d31-29954083276f"
   },
   "outputs": [
    {
     "name": "stdout",
     "output_type": "stream",
     "text": [
      "1.3.0+cu100\n"
     ]
    }
   ],
   "source": [
    "print(torch.__version__)"
   ]
  },
  {
   "cell_type": "code",
   "execution_count": 3,
   "metadata": {
    "colab": {
     "base_uri": "https://localhost:8080/",
     "height": 35
    },
    "colab_type": "code",
    "id": "nCTYRgDyQqKn",
    "outputId": "ca4a038e-6bf7-4e97-e9e7-97ec7d6d94ef"
   },
   "outputs": [
    {
     "name": "stdout",
     "output_type": "stream",
     "text": [
      "cuda\n"
     ]
    }
   ],
   "source": [
    "# CPU / GPU Setting\n",
    "device = torch.device('cuda' if torch.cuda.is_available() else 'cpu')\n",
    "print(device)"
   ]
  },
  {
   "cell_type": "markdown",
   "metadata": {
    "colab_type": "text",
    "id": "DH4PT4d9QqKv"
   },
   "source": [
    "## Dataset with CIFAR10"
   ]
  },
  {
   "cell_type": "markdown",
   "metadata": {
    "colab_type": "text",
    "id": "z47xdn8cQqKy"
   },
   "source": [
    "It is provided by the University of Torronto and collected by Alex Krizhevsky, Vinod Nair, and Geoffrey Hinton. The CIFAR-10 dataset consists of 60,000 32x32 color images in 10 classes, with 6,000 images per class. Its total size is 163MB for python. For further information, the link follows; https://www.cs.toronto.edu/~kriz/cifar.html"
   ]
  },
  {
   "cell_type": "markdown",
   "metadata": {
    "colab_type": "text",
    "id": "YDma4ptQQqK2"
   },
   "source": [
    "<img src = './Images/CIFAR10.png' width=\"600\" height=\"600\" align = \"left\">"
   ]
  },
  {
   "cell_type": "code",
   "execution_count": 0,
   "metadata": {
    "colab": {},
    "colab_type": "code",
    "id": "QkNUgEuQQqK4"
   },
   "outputs": [],
   "source": [
    "# define a transform to normalize the data\n",
    "transform = transforms.Compose([\n",
    "    transforms.ToTensor(), # converting images to tensor\n",
    "    transforms.Normalize(mean = (0.5, 0.5, 0.5), std = (0.5, 0.5, 0.5)) \n",
    "    # if the image dataset is black and white image, there can be just one number. \n",
    "])"
   ]
  },
  {
   "cell_type": "code",
   "execution_count": 5,
   "metadata": {
    "colab": {
     "base_uri": "https://localhost:8080/",
     "height": 35
    },
    "colab_type": "code",
    "id": "X7-HBlPmQqLB",
    "outputId": "0c39f9d3-1746-497c-98bc-bea4410b6ec6",
    "scrolled": true
   },
   "outputs": [
    {
     "name": "stdout",
     "output_type": "stream",
     "text": [
      "Files already downloaded and verified\n"
     ]
    }
   ],
   "source": [
    "# number of images in one forward and backward pass\n",
    "batch_size = 128\n",
    "\n",
    "# number of subprocesses used for data loading\n",
    "num_workers = 2\n",
    "\n",
    "train_dataset = datasets.CIFAR10('./data/CIFAR10/', \n",
    "                                 train = True, \n",
    "                                 download = True, \n",
    "                                 transform = transform)\n",
    "train_loader = DataLoader(train_dataset, \n",
    "                          batch_size = batch_size, \n",
    "                          shuffle = True, \n",
    "                          num_workers = num_workers)\n",
    "\n",
    "test_dataset = datasets.CIFAR10('./data/CIFAR10', \n",
    "                                train = False, \n",
    "                                transform = transform)\n",
    "test_loader = DataLoader(test_dataset, \n",
    "                         batch_size = batch_size, \n",
    "                         shuffle = False, \n",
    "                         num_workers = num_workers)"
   ]
  },
  {
   "cell_type": "code",
   "execution_count": 0,
   "metadata": {
    "colab": {},
    "colab_type": "code",
    "id": "rKa9pjB1QqLL"
   },
   "outputs": [],
   "source": [
    "# classes in CIFAR10\n",
    "classes = ('plane', 'car', 'bird', 'cat', 'deer', 'dog', 'frog', 'horse', 'ship', 'truck')"
   ]
  },
  {
   "cell_type": "code",
   "execution_count": 0,
   "metadata": {
    "colab": {},
    "colab_type": "code",
    "id": "xwypNrEMQqLT"
   },
   "outputs": [],
   "source": [
    "# function that will be used for visualizing the data\n",
    "def imshow(img):\n",
    "    img = img / 2 + 0.5  # unnormalize\n",
    "    plt.imshow(np.transpose(img, (1, 2, 0)))  # convert from Tensor image"
   ]
  },
  {
   "cell_type": "code",
   "execution_count": 8,
   "metadata": {
    "colab": {
     "base_uri": "https://localhost:8080/",
     "height": 189
    },
    "colab_type": "code",
    "id": "OtASDFpyQqLc",
    "outputId": "aae21d30-7c07-4fec-a96a-223bbc6577fc"
   },
   "outputs": [
    {
     "data": {
      "image/png": "iVBORw0KGgoAAAANSUhEUgAABYQAAACYCAYAAABUB+0FAAAABHNCSVQICAgIfAhkiAAAAAlwSFlz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\n",
      "text/plain": [
       "<Figure size 1800x288 with 10 Axes>"
      ]
     },
     "metadata": {
      "tags": []
     },
     "output_type": "display_data"
    }
   ],
   "source": [
    "# obtain one batch of imges from train dataset\n",
    "dataiter = iter(train_loader)\n",
    "images, labels = dataiter.next()\n",
    "images = images.numpy() # convert images to numpy for display\n",
    "\n",
    "# plot the images in one batch with the corresponding labels\n",
    "fig = plt.figure(figsize = (25, 4))\n",
    "\n",
    "# display images\n",
    "for idx in np.arange(10):\n",
    "    ax = fig.add_subplot(1, 10, idx+1, xticks=[], yticks=[])\n",
    "    imshow(images[idx])\n",
    "    ax.set_title(classes[labels[idx]])"
   ]
  },
  {
   "cell_type": "markdown",
   "metadata": {
    "colab_type": "text",
    "id": "OTV_26UwQqLn"
   },
   "source": [
    "## Build Convolutional Neural Network"
   ]
  },
  {
   "cell_type": "markdown",
   "metadata": {
    "colab_type": "text",
    "id": "Z5anwn0OQqLq"
   },
   "source": [
    "Those terms are used in the CNN.\n",
    "* Convolution\n",
    "* Channel\n",
    "* Filter (Kernel)\n",
    "* Stride\n",
    "* Padding\n",
    "* Pooling Layer"
   ]
  },
  {
   "cell_type": "markdown",
   "metadata": {
    "colab_type": "text",
    "id": "hCgFw6v5QqLt"
   },
   "source": [
    "<br> 1. Convolution </br>\n",
    "<br> The below image describes effectively process of Convolution.\n",
    "<img src = \"./Images/CNN_kernel.gif\">"
   ]
  },
  {
   "cell_type": "markdown",
   "metadata": {
    "colab_type": "text",
    "id": "0pQDpt6FQqLx"
   },
   "source": [
    "<br> 2. Channel </br>\n",
    "<br> Color images consists of 3 channels - RGB - Red, Green and Blue. Black and White images consists of 1 channel - Black and white. For example, if the color image's height and width is 200 pixel and 400 pixel respectively, its shape is (200, 400, 3). If the black and white image's height and width is 400 pixel and 600 pixel respectively, its shape is (400, 600, 1). </br>\n",
    "<br> </br>\n",
    "<br> 3. Filter </br>\n",
    "<br> It is a global parameter that is used to extract features in an image. It is also called a 'kernel'. It is typically a square, 3x3 or 5x5. In the above image, it is a 3x3 yellow matrix. It has numerous different types, identity, edge detection, sharpen, gaussian blur filter and so on.\n",
    "<br> </br>\n",
    "<br> 4. Stride </br>\n",
    "<br> Filter calculates the convolution by iterating over the input data at specific intervals. Thus, the number of pixels shifts over the input matrix is called Stride. </br>\n",
    "<br> </br>\n",
    "<br> 5. Padding </br>\n",
    "<br> Padding prevents a reduction of output layer of Convolutional layer. It means filling outer pixels of input images with a specific value. </br>\n",
    "<br> </br>\n",
    "<br> 6. Pooling layer </br>\n",
    "<br> Its main purpose is to reduce the size of the ouput data or to emphasize the specific pattern. Mainly there are max pooling and average pooling, the below image helps the understanding.\n",
    "<img src = \"./Images/Pooling.png\" height = \"300px\" width = \"400px\">"
   ]
  },
  {
   "cell_type": "markdown",
   "metadata": {
    "colab_type": "text",
    "id": "4hfHyiMNQqL2"
   },
   "source": [
    "It is also very important to know how to calculate the feature map size. Let output size `O`, input size `N`, padding `P`, filter (or kernel) `F`, stride `S`. Then, the equation becomes `O = (N+2P-F)/S + 1`. If its result is not an integer but a float, the computer automatically conducts round down. \n",
    "<br> Using the concepts aforementioned, we can develop our own convolutional neural network architecture that aims to classify CIFAR10 dataset. </br>"
   ]
  },
  {
   "cell_type": "code",
   "execution_count": 0,
   "metadata": {
    "colab": {},
    "colab_type": "code",
    "id": "u1CbQHjiQqL5"
   },
   "outputs": [],
   "source": [
    "# define the CNN architecture\n",
    "\n",
    "class CNN(nn.Module):\n",
    "    def __init__(self):\n",
    "        super(CNN, self).__init__()\n",
    "        \n",
    "        self.main = nn.Sequential(\n",
    "            # 3x32x32\n",
    "            nn.Conv2d(in_channels = 3, out_channels = 32, kernel_size = 3, padding = 1), # 3x32x32 (O = (N+2P-F/S)+1)\n",
    "            nn.ReLU(0.5), # default probability = 0.5\n",
    "            nn.MaxPool2d(kernel_size = 2, stride = 2), # 32x16x16\n",
    "            nn.BatchNorm2d(32),\n",
    "            \n",
    "            nn.Conv2d(32, 64, kernel_size = 3, padding = 1), # 32x16x16\n",
    "            nn.ReLU(),\n",
    "            nn.MaxPool2d(2, 2), # 64x8x8\n",
    "            nn.BatchNorm2d(64),\n",
    "            \n",
    "            nn.Conv2d(64, 128, 3, padding = 1), # 64x8x8\n",
    "            nn.ReLU(),\n",
    "            nn.MaxPool2d(2, 2), # 128x4x4\n",
    "            nn.BatchNorm2d(128),\n",
    "        )\n",
    "        \n",
    "        self.fc = nn.Sequential(\n",
    "            nn.Linear(128*4*4, 1024),\n",
    "            nn.ReLU(),\n",
    "            nn.Dropout(0.5),\n",
    "            nn.Linear(1024, 256),\n",
    "            nn.ReLU(),\n",
    "            nn.Dropout(0.5),\n",
    "            nn.Linear(256, 10)\n",
    "        )\n",
    "        \n",
    "    def forward(self, x):\n",
    "        # Conv and Poolilng layers\n",
    "        x = self.main(x)\n",
    "        \n",
    "        # Flatten before Fully Connected layers\n",
    "        x = x.view(-1, 128*4*4) \n",
    "        \n",
    "        # Fully Connected Layer\n",
    "        x = self.fc(x)\n",
    "        return x"
   ]
  },
  {
   "cell_type": "code",
   "execution_count": 10,
   "metadata": {
    "colab": {
     "base_uri": "https://localhost:8080/",
     "height": 467
    },
    "colab_type": "code",
    "id": "GbEP9N8BQqMB",
    "outputId": "68902959-cb36-42c0-b661-a7d16786a60e"
   },
   "outputs": [
    {
     "data": {
      "text/plain": [
       "CNN(\n",
       "  (main): Sequential(\n",
       "    (0): Conv2d(3, 32, kernel_size=(3, 3), stride=(1, 1), padding=(1, 1))\n",
       "    (1): ReLU(inplace=True)\n",
       "    (2): MaxPool2d(kernel_size=2, stride=2, padding=0, dilation=1, ceil_mode=False)\n",
       "    (3): BatchNorm2d(32, eps=1e-05, momentum=0.1, affine=True, track_running_stats=True)\n",
       "    (4): Conv2d(32, 64, kernel_size=(3, 3), stride=(1, 1), padding=(1, 1))\n",
       "    (5): ReLU()\n",
       "    (6): MaxPool2d(kernel_size=2, stride=2, padding=0, dilation=1, ceil_mode=False)\n",
       "    (7): BatchNorm2d(64, eps=1e-05, momentum=0.1, affine=True, track_running_stats=True)\n",
       "    (8): Conv2d(64, 128, kernel_size=(3, 3), stride=(1, 1), padding=(1, 1))\n",
       "    (9): ReLU()\n",
       "    (10): MaxPool2d(kernel_size=2, stride=2, padding=0, dilation=1, ceil_mode=False)\n",
       "    (11): BatchNorm2d(128, eps=1e-05, momentum=0.1, affine=True, track_running_stats=True)\n",
       "  )\n",
       "  (fc): Sequential(\n",
       "    (0): Linear(in_features=2048, out_features=1024, bias=True)\n",
       "    (1): ReLU()\n",
       "    (2): Dropout(p=0.5, inplace=False)\n",
       "    (3): Linear(in_features=1024, out_features=256, bias=True)\n",
       "    (4): ReLU()\n",
       "    (5): Dropout(p=0.5, inplace=False)\n",
       "    (6): Linear(in_features=256, out_features=10, bias=True)\n",
       "  )\n",
       ")"
      ]
     },
     "execution_count": 10,
     "metadata": {
      "tags": []
     },
     "output_type": "execute_result"
    }
   ],
   "source": [
    "# printout information on CNN architecture\n",
    "cnn = CNN().to(device)\n",
    "cnn"
   ]
  },
  {
   "cell_type": "markdown",
   "metadata": {
    "colab_type": "text",
    "id": "7PFKybuFQqMK"
   },
   "source": [
    "Cross Entropy Loss, or Log Loss, is used to measure the performance of a classification model whose output is a probability between 0 and 1. \n",
    "Learning rate should be carefully selected as it determines your model training. It is normally set to 0.001 or 0.01. "
   ]
  },
  {
   "cell_type": "code",
   "execution_count": 0,
   "metadata": {
    "colab": {},
    "colab_type": "code",
    "id": "Sr1pWRn_QqMN"
   },
   "outputs": [],
   "source": [
    "# Loss function and Optimizer\n",
    "criterion = nn.CrossEntropyLoss()\n",
    "optimizer = optim.Adam(cnn.parameters(), lr = 0.001)"
   ]
  },
  {
   "cell_type": "markdown",
   "metadata": {
    "colab_type": "text",
    "id": "K5x4AhLwQqMV"
   },
   "source": [
    "## Train the Model"
   ]
  },
  {
   "cell_type": "code",
   "execution_count": 0,
   "metadata": {
    "colab": {},
    "colab_type": "code",
    "id": "QaTVhFdwQqMY"
   },
   "outputs": [],
   "source": [
    "# define train function to train the model using a CIFAR10 dataset\n",
    "def train(model, num_epochs):\n",
    "    model.train()\n",
    "    \n",
    "    total_batch = len(train_dataset) // batch_size\n",
    "    \n",
    "    for epoch in range(num_epochs):\n",
    "        \n",
    "        for i, (images, labels) in enumerate(train_loader):\n",
    "            \n",
    "            X = images.to(device)\n",
    "            Y = labels.to(device)\n",
    "            \n",
    "            ### forward pass and loss calculation\n",
    "            # forward pass\n",
    "            pred = model(X)\n",
    "            #c alculation  of loss value\n",
    "            cost = criterion(pred, Y)\n",
    "            \n",
    "            ### backward pass and optimization\n",
    "            # gradient initialization\n",
    "            optimizer.zero_grad()\n",
    "            # backward pass\n",
    "            cost.backward()\n",
    "            # parameter update\n",
    "            optimizer.step()\n",
    "            \n",
    "            # training stats\n",
    "            if (i+1) % 100 == 0:\n",
    "                print('Epoch [%d/%d], lter [%d/%d], Loss: %.4f' \n",
    "                      % (epoch+1, num_epochs, i+1, total_batch, cost.item()))\n",
    "                \n",
    "    print(\"Learning Finished!\")"
   ]
  },
  {
   "cell_type": "code",
   "execution_count": 13,
   "metadata": {
    "colab": {
     "base_uri": "https://localhost:8080/",
     "height": 845
    },
    "colab_type": "code",
    "id": "r2Cshr9dQqMg",
    "outputId": "44fd5351-917f-46b3-bdf0-0976fae9bc0c",
    "scrolled": true
   },
   "outputs": [
    {
     "name": "stdout",
     "output_type": "stream",
     "text": [
      "Epoch [1/15], lter [100/390], Loss: 1.4011\n",
      "Epoch [1/15], lter [200/390], Loss: 1.2165\n",
      "Epoch [1/15], lter [300/390], Loss: 1.0795\n",
      "Epoch [2/15], lter [100/390], Loss: 0.7620\n",
      "Epoch [2/15], lter [200/390], Loss: 0.7662\n",
      "Epoch [2/15], lter [300/390], Loss: 0.8888\n",
      "Epoch [3/15], lter [100/390], Loss: 0.7856\n",
      "Epoch [3/15], lter [200/390], Loss: 0.7234\n",
      "Epoch [3/15], lter [300/390], Loss: 0.7273\n",
      "Epoch [4/15], lter [100/390], Loss: 0.5260\n",
      "Epoch [4/15], lter [200/390], Loss: 0.6944\n",
      "Epoch [4/15], lter [300/390], Loss: 0.5769\n",
      "Epoch [5/15], lter [100/390], Loss: 0.5050\n",
      "Epoch [5/15], lter [200/390], Loss: 0.4814\n",
      "Epoch [5/15], lter [300/390], Loss: 0.5026\n",
      "Epoch [6/15], lter [100/390], Loss: 0.4914\n",
      "Epoch [6/15], lter [200/390], Loss: 0.5512\n",
      "Epoch [6/15], lter [300/390], Loss: 0.4661\n",
      "Epoch [7/15], lter [100/390], Loss: 0.3365\n",
      "Epoch [7/15], lter [200/390], Loss: 0.2970\n",
      "Epoch [7/15], lter [300/390], Loss: 0.2614\n",
      "Epoch [8/15], lter [100/390], Loss: 0.2181\n",
      "Epoch [8/15], lter [200/390], Loss: 0.2690\n",
      "Epoch [8/15], lter [300/390], Loss: 0.4235\n",
      "Epoch [9/15], lter [100/390], Loss: 0.2750\n",
      "Epoch [9/15], lter [200/390], Loss: 0.1473\n",
      "Epoch [9/15], lter [300/390], Loss: 0.2512\n",
      "Epoch [10/15], lter [100/390], Loss: 0.2582\n",
      "Epoch [10/15], lter [200/390], Loss: 0.2287\n",
      "Epoch [10/15], lter [300/390], Loss: 0.4125\n",
      "Epoch [11/15], lter [100/390], Loss: 0.1675\n",
      "Epoch [11/15], lter [200/390], Loss: 0.2214\n",
      "Epoch [11/15], lter [300/390], Loss: 0.1230\n",
      "Epoch [12/15], lter [100/390], Loss: 0.2918\n",
      "Epoch [12/15], lter [200/390], Loss: 0.2640\n",
      "Epoch [12/15], lter [300/390], Loss: 0.1926\n",
      "Epoch [13/15], lter [100/390], Loss: 0.1400\n",
      "Epoch [13/15], lter [200/390], Loss: 0.3026\n",
      "Epoch [13/15], lter [300/390], Loss: 0.3247\n",
      "Epoch [14/15], lter [100/390], Loss: 0.0876\n",
      "Epoch [14/15], lter [200/390], Loss: 0.1050\n",
      "Epoch [14/15], lter [300/390], Loss: 0.2119\n",
      "Epoch [15/15], lter [100/390], Loss: 0.1920\n",
      "Epoch [15/15], lter [200/390], Loss: 0.0890\n",
      "Epoch [15/15], lter [300/390], Loss: 0.2866\n",
      "Learning Finished!\n"
     ]
    }
   ],
   "source": [
    "train(cnn, num_epochs = 15)"
   ]
  },
  {
   "cell_type": "markdown",
   "metadata": {
    "colab_type": "text",
    "id": "tND0UkHRQqMq"
   },
   "source": [
    "## Test the Model\n",
    "This neural network should be checked by comparing the class labels that it predicted against the ground-truth. If the prediction is correct, one is added to the list of correct predictions."
   ]
  },
  {
   "cell_type": "code",
   "execution_count": 0,
   "metadata": {
    "colab": {},
    "colab_type": "code",
    "id": "sdMd75_nQqMt"
   },
   "outputs": [],
   "source": [
    "def test(model):\n",
    "    \n",
    "    # declare that the model is about to evaluate\n",
    "    model.eval()\n",
    "\n",
    "    correct = 0\n",
    "    total = 0\n",
    "    \n",
    "    with torch.no_grad():\n",
    "        for images, labels in test_dataset:\n",
    "            images = images.unsqueeze(0).to(device)\n",
    "            \n",
    "            # forward pass\n",
    "            outputs = model(images)\n",
    "            \n",
    "            _, predicted = torch.max(outputs.data, 1)\n",
    "            total += 1\n",
    "            correct += (predicted == labels).sum().item()\n",
    "\n",
    "    print(\"Accuracy of Test Images: %f %%\" % (100 * float(correct) / total))"
   ]
  },
  {
   "cell_type": "code",
   "execution_count": 15,
   "metadata": {
    "colab": {
     "base_uri": "https://localhost:8080/",
     "height": 35
    },
    "colab_type": "code",
    "id": "63Ogg8AxQqM1",
    "outputId": "47282850-44f1-4f3c-a44b-f884d80e0f0f"
   },
   "outputs": [
    {
     "name": "stdout",
     "output_type": "stream",
     "text": [
      "Accuracy of Test Images: 78.730000 %\n"
     ]
    }
   ],
   "source": [
    "test(model = cnn)"
   ]
  },
  {
   "cell_type": "markdown",
   "metadata": {
    "colab_type": "text",
    "id": "gQh60p-fQqM9"
   },
   "source": [
    "It is desirable to figure out on which classes the model performed well or not. "
   ]
  },
  {
   "cell_type": "code",
   "execution_count": 16,
   "metadata": {
    "colab": {
     "base_uri": "https://localhost:8080/",
     "height": 197
    },
    "colab_type": "code",
    "id": "x_kfloExQqND",
    "outputId": "ae5e03f7-eae0-457e-a624-f71ad705ab6d"
   },
   "outputs": [
    {
     "name": "stdout",
     "output_type": "stream",
     "text": [
      "Accuracy of plane : 75 %\n",
      "Accuracy of   car : 92 %\n",
      "Accuracy of  bird : 66 %\n",
      "Accuracy of   cat : 44 %\n",
      "Accuracy of  deer : 77 %\n",
      "Accuracy of   dog : 66 %\n",
      "Accuracy of  frog : 75 %\n",
      "Accuracy of horse : 80 %\n",
      "Accuracy of  ship : 90 %\n",
      "Accuracy of truck : 76 %\n"
     ]
    }
   ],
   "source": [
    "class_correct = list(0. for i in range(10))\n",
    "class_total = list(0. for i in range(10))\n",
    "\n",
    "with torch.no_grad():\n",
    "    \n",
    "    for data in test_loader:\n",
    "        images, labels = data\n",
    "        images = images.to(device)\n",
    "        labels = labels.to(device)\n",
    "        outputs = cnn(images)\n",
    "        \n",
    "        _, predicted = torch.max(outputs, 1)\n",
    "        c = (predicted == labels).squeeze()\n",
    "        \n",
    "        for i in range(4):\n",
    "            label = labels[i]\n",
    "            class_correct[label] += c[i].item()\n",
    "            class_total[label] += 1\n",
    "\n",
    "\n",
    "for i in range(10):\n",
    "    print('Accuracy of %5s : %2d %%' % (\n",
    "        classes[i], 100 * class_correct[i] / class_total[i]))"
   ]
  },
  {
   "cell_type": "markdown",
   "metadata": {
    "colab_type": "text",
    "id": "OnMrKdklQqNQ"
   },
   "source": [
    "## Save the model"
   ]
  },
  {
   "cell_type": "code",
   "execution_count": 0,
   "metadata": {
    "colab": {},
    "colab_type": "code",
    "id": "Gd4mah6DQqNV"
   },
   "outputs": [],
   "source": [
    "# Save the model checkpoint\n",
    "save_path = './model/'\n",
    "\n",
    "if not os.path.exists(save_path):\n",
    "    os.makedirs(save_path)\n",
    "\n",
    "torch.save(cnn.state_dict(), 'cnn.ckpt')"
   ]
  },
  {
   "cell_type": "code",
   "execution_count": 0,
   "metadata": {
    "colab": {},
    "colab_type": "code",
    "id": "wMOhXJmNQqNi"
   },
   "outputs": [],
   "source": []
  }
 ],
 "metadata": {
  "accelerator": "GPU",
  "colab": {
   "collapsed_sections": [],
   "name": "3. CNN.ipynb",
   "provenance": []
  },
  "kernelspec": {
   "display_name": "Python 3",
   "language": "python",
   "name": "python3"
  },
  "language_info": {
   "codemirror_mode": {
    "name": "ipython",
    "version": 3
   },
   "file_extension": ".py",
   "mimetype": "text/x-python",
   "name": "python",
   "nbconvert_exporter": "python",
   "pygments_lexer": "ipython3",
   "version": "3.7.3"
  }
 },
 "nbformat": 4,
 "nbformat_minor": 1
}
