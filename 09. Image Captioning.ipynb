{
 "cells": [
  {
   "cell_type": "markdown",
   "metadata": {},
   "source": [
    "# Show And Tell with Flickr8k using PyTorch\n",
    "## 1 Preparation\n",
    "### 1.1 Import Libraries"
   ]
  },
  {
   "cell_type": "code",
   "execution_count": 1,
   "metadata": {},
   "outputs": [],
   "source": [
    "import os\n",
    "import io\n",
    "import numpy as np\n",
    "import time\n",
    "import random\n",
    "import warnings\n",
    "warnings.filterwarnings(\"ignore\")\n",
    "\n",
    "from itertools import chain\n",
    "from matplotlib import pyplot as plt\n",
    "from nltk import word_tokenize\n",
    "from nltk.translate.bleu_score import corpus_bleu, sentence_bleu\n",
    "from PIL import Image\n",
    "\n",
    "import torch\n",
    "import torch.nn as nn\n",
    "from torch.utils.data import Dataset, DataLoader\n",
    "from torch.nn.utils.rnn import pack_padded_sequence\n",
    "import torchvision\n",
    "import torchvision.transforms as transforms\n",
    "import torchvision.models as models\n",
    "\n",
    "device = torch.device('cuda' if torch.cuda.is_available() else 'cpu')"
   ]
  },
  {
   "cell_type": "markdown",
   "metadata": {},
   "source": [
    "### 1.2 Resize Images"
   ]
  },
  {
   "cell_type": "code",
   "execution_count": 2,
   "metadata": {},
   "outputs": [
    {
     "name": "stdout",
     "output_type": "stream",
     "text": [
      "[1000/8091] images are resized and saved into './Flickr8k/Flickr8k_resized_image/'.\n",
      "[2000/8091] images are resized and saved into './Flickr8k/Flickr8k_resized_image/'.\n",
      "[3000/8091] images are resized and saved into './Flickr8k/Flickr8k_resized_image/'.\n",
      "[4000/8091] images are resized and saved into './Flickr8k/Flickr8k_resized_image/'.\n",
      "[5000/8091] images are resized and saved into './Flickr8k/Flickr8k_resized_image/'.\n",
      "[6000/8091] images are resized and saved into './Flickr8k/Flickr8k_resized_image/'.\n",
      "[7000/8091] images are resized and saved into './Flickr8k/Flickr8k_resized_image/'.\n",
      "[8000/8091] images are resized and saved into './Flickr8k/Flickr8k_resized_image/'.\n"
     ]
    }
   ],
   "source": [
    "image_dir = './Flickr8k/Flickr8k_Dataset/'\n",
    "output_dir = './Flickr8k/Flickr8k_resized_image/'\n",
    "image_size = [256,256]\n",
    "\n",
    "if not os.path.exists(output_dir):\n",
    "    os.mkdir(output_dir)\n",
    "\n",
    "images = os.listdir(image_dir)\n",
    "num_images = len(images)\n",
    "for i, image in enumerate(images):\n",
    "    with open(os.path.join(image_dir, image), 'r+b') as f:\n",
    "        with Image.open(f) as img:\n",
    "            img = img.resize(image_size, Image.ANTIALIAS)\n",
    "            img.save(os.path.join(output_dir, image), img.format)\n",
    "            \n",
    "    if (i+1) % 1000 == 0:\n",
    "        print (\"[{}/{}] images are resized and saved into '{}'.\"\n",
    "               .format(i+1, num_images, output_dir))"
   ]
  },
  {
   "cell_type": "markdown",
   "metadata": {},
   "source": [
    "### 1.3 Text Preprocessing"
   ]
  },
  {
   "cell_type": "code",
   "execution_count": 3,
   "metadata": {},
   "outputs": [],
   "source": [
    "train_image_list=[]\n",
    "with open('./Flickr8k/Flickr8k_text/Flickr_8k.trainImages.txt','r') as f:\n",
    "    for image in f:\n",
    "        train_image_list.append(image.strip())\n",
    "        \n",
    "val_image_list=[]\n",
    "with open('./Flickr8k/Flickr8k_text/Flickr_8k.devImages.txt','r') as f:\n",
    "    for image in f:\n",
    "        val_image_list.append(image.strip())\n",
    "        \n",
    "test_image_list=[]\n",
    "with open('./Flickr8k/Flickr8k_text/Flickr_8k.testImages.txt','r') as f:\n",
    "    for image in f:\n",
    "        test_image_list.append(image.strip())\n",
    "        \n",
    "image_caption=[]\n",
    "with open('./Flickr8k/Flickr8k_text/Flickr8k.token.txt','r') as f:\n",
    "    for image in f:\n",
    "        image_caption.append(image)"
   ]
  },
  {
   "cell_type": "code",
   "execution_count": 4,
   "metadata": {},
   "outputs": [],
   "source": [
    "annot={}\n",
    "for i in range(0, len(image_caption), 5):\n",
    "    ann=[]\n",
    "    t1=image_caption[i].strip()\n",
    "    for j in range(i,i+5):\n",
    "        tmp=image_caption[j].strip()\n",
    "        tmp=tmp.split('\\t')\n",
    "        ann.append([tmp[1].lower()])\n",
    "    t1=t1.split('\\t')\n",
    "    annot[t1[0].split('#')[0]]=ann"
   ]
  },
  {
   "cell_type": "code",
   "execution_count": 5,
   "metadata": {},
   "outputs": [],
   "source": [
    "cap_dict={}\n",
    "for i in range(0, len(image_caption), 5):\n",
    "    tmp=image_caption[i].strip()\n",
    "    tmp=tmp.split('\\t')\n",
    "    cap_dict[tmp[0].split('#')[0]]=tmp[1].lower()"
   ]
  },
  {
   "cell_type": "code",
   "execution_count": 6,
   "metadata": {},
   "outputs": [],
   "source": [
    "train_cap_dict={}\n",
    "for image in train_image_list:\n",
    "    train_cap_dict[image]=cap_dict[image]\n",
    "    \n",
    "val_cap_dict={}\n",
    "for image in val_image_list:\n",
    "    val_cap_dict[image]=cap_dict[image]\n",
    "    \n",
    "test_cap_dict={}\n",
    "for image in test_image_list:\n",
    "    test_cap_dict[image]=cap_dict[image]"
   ]
  },
  {
   "cell_type": "code",
   "execution_count": 7,
   "metadata": {},
   "outputs": [],
   "source": [
    "train_token=[]\n",
    "train_tok=[]\n",
    "val_token=[]\n",
    "test_token=[]\n",
    "\n",
    "for (j,i) in train_cap_dict.items():\n",
    "    train_token.append([j, word_tokenize(i)])\n",
    "    train_tok.append(word_tokenize(i))\n",
    "    \n",
    "for (j,i) in val_cap_dict.items():\n",
    "    val_token.append([j, word_tokenize(i)])\n",
    "    \n",
    "for (j,i) in test_cap_dict.items():\n",
    "    test_token.append([j, word_tokenize(i)])"
   ]
  },
  {
   "cell_type": "code",
   "execution_count": 8,
   "metadata": {},
   "outputs": [],
   "source": [
    "tokens = chain.from_iterable(train_tok)\n",
    "word2idx = {token: idx for idx, token in enumerate(set(tokens))}\n",
    "\n",
    "tokens = chain.from_iterable(train_tok)\n",
    "idx2word = [token for idx, token in enumerate(set(tokens))]\n",
    "idx2word = np.asarray(idx2word)"
   ]
  },
  {
   "cell_type": "code",
   "execution_count": 9,
   "metadata": {},
   "outputs": [],
   "source": [
    "train_token_ids = [[word2idx[token] for token in x[1]] for x in train_token]\n",
    "count = np.zeros(idx2word.shape)\n",
    "\n",
    "for x in train_token_ids:\n",
    "    for token in x:\n",
    "        count[token] += 1\n",
    "        \n",
    "indices = np.argsort(-count)\n",
    "idx2word = idx2word[indices]\n",
    "count = count[indices]"
   ]
  },
  {
   "cell_type": "code",
   "execution_count": 10,
   "metadata": {},
   "outputs": [
    {
     "name": "stdout",
     "output_type": "stream",
     "text": [
      "Vocabulary size: 3890\n"
     ]
    }
   ],
   "source": [
    "word2idx = {token: idx for idx, token in enumerate(idx2word)}\n",
    "print(\"Vocabulary size: \"+str(len(word2idx)))"
   ]
  },
  {
   "cell_type": "code",
   "execution_count": 11,
   "metadata": {},
   "outputs": [],
   "source": [
    "train_token_ids = [[word2idx.get(token, -4) +4 for token in x[1]] for x in train_token]\n",
    "val_token_ids = [[word2idx.get(token, -4) +4 for token in x[1]] for x in val_token]\n",
    "test_token_ids = [[word2idx.get(token, -4) +4 for token in x[1]] for x in test_token]"
   ]
  },
  {
   "cell_type": "code",
   "execution_count": 12,
   "metadata": {},
   "outputs": [],
   "source": [
    "word2idx['<unknown>'] = -4\n",
    "word2idx['<start>'] = -3\n",
    "word2idx['<end>'] = -2\n",
    "word2idx['<pad>'] = -1\n",
    "\n",
    "for (_, i) in word2idx.items():\n",
    "    i+=4\n",
    "    word2idx[_] = i\n",
    "\n",
    "idx2word_dict={}\n",
    "cnt=4\n",
    "\n",
    "for i in idx2word:\n",
    "    idx2word_dict[cnt]=i\n",
    "    cnt+=1\n",
    "    \n",
    "idx2word_dict[0]='<unknown>'\n",
    "idx2word_dict[1]='<start>'\n",
    "idx2word_dict[2]='<end>'\n",
    "idx2word_dict[3]='<pad>'\n",
    "\n",
    "train_cap_length={}\n",
    "for i in train_token:\n",
    "    train_cap_length[i[0]]=len(i[1])+2\n",
    "    \n",
    "val_cap_length={}\n",
    "for i in val_token:\n",
    "    val_cap_length[i[0]]=len(i[1])+2\n",
    "    \n",
    "test_cap_length={}\n",
    "for i in test_token:\n",
    "    test_cap_length[i[0]]=len(i[1])+2"
   ]
  },
  {
   "cell_type": "code",
   "execution_count": 13,
   "metadata": {},
   "outputs": [],
   "source": [
    "for i in train_token_ids:\n",
    "    i.insert(0, word2idx['<start>'])\n",
    "    i.append(word2idx['<end>'])\n",
    "\n",
    "for i in val_token_ids:\n",
    "    i.insert(0, word2idx['<start>'])\n",
    "    i.append(word2idx['<end>'])\n",
    "    \n",
    "for i in test_token_ids:\n",
    "    i.insert(0, word2idx['<start>'])\n",
    "    i.append(word2idx['<end>'])"
   ]
  },
  {
   "cell_type": "code",
   "execution_count": 14,
   "metadata": {},
   "outputs": [],
   "source": [
    "length=[]\n",
    "\n",
    "for (i, j) in train_cap_length.items():\n",
    "    length.append(j)\n",
    "\n",
    "for n, i in enumerate(train_token):\n",
    "    if (train_cap_length[i[0]] < max(length)):\n",
    "        train_token_ids[n].extend(word2idx['<pad>'] for i in range(train_cap_length[i[0]], max(length)))\n",
    "        \n",
    "train_token_ids_dict={}\n",
    "\n",
    "for n, i in enumerate(train_token):\n",
    "    train_token_ids_dict[i[0]]=train_token_ids[n]"
   ]
  },
  {
   "cell_type": "code",
   "execution_count": 15,
   "metadata": {},
   "outputs": [],
   "source": [
    "length=[]\n",
    "\n",
    "for (i, j) in val_cap_length.items():\n",
    "    length.append(j)\n",
    "\n",
    "for n,i in enumerate(val_token):\n",
    "    if (val_cap_length[i[0]] < max(length)):\n",
    "        val_token_ids[n].extend(word2idx['<pad>'] for i in range(val_cap_length[i[0]], max(length)))\n",
    "        \n",
    "val_token_ids_dict={}\n",
    "\n",
    "for n,i in enumerate(val_token):\n",
    "    val_token_ids_dict[i[0]]=val_token_ids[n]"
   ]
  },
  {
   "cell_type": "code",
   "execution_count": 16,
   "metadata": {},
   "outputs": [],
   "source": [
    "length=[]\n",
    "\n",
    "for (i,j) in test_cap_length.items():\n",
    "    length.append(j)\n",
    "max_len=max(length)\n",
    "\n",
    "for n,i in enumerate(test_token):\n",
    "    if (test_cap_length[i[0]] < max(length)):\n",
    "        test_token_ids[n].extend(word2idx['<pad>'] for i in range(test_cap_length[i[0]], max(length)))\n",
    "        \n",
    "test_token_ids_dict={}\n",
    "\n",
    "for n,i in enumerate(test_token):\n",
    "    test_token_ids_dict[i[0]]=test_token_ids[n]"
   ]
  },
  {
   "cell_type": "code",
   "execution_count": 17,
   "metadata": {},
   "outputs": [],
   "source": [
    "np.save('./Flickr8k/Flickr8k_text/flickr8k_dictionary.npy',np.asarray(idx2word))"
   ]
  },
  {
   "cell_type": "code",
   "execution_count": 18,
   "metadata": {},
   "outputs": [],
   "source": [
    "with io.open('./Flickr8k/Flickr8k_text/train_captions.txt', 'w', encoding='utf-8') as f:\n",
    "    for i, tokens in enumerate(train_token_ids):\n",
    "        f.write(\"%s \" % train_token[i][0])\n",
    "        for token in tokens:\n",
    "            f.write(\"%i \" % token)\n",
    "        f.write(\"\\n\")\n",
    "        \n",
    "with io.open('./Flickr8k/Flickr8k_text/val_captions.txt', 'w', encoding='utf-8') as f:\n",
    "    for i, tokens in enumerate(val_token_ids):\n",
    "        f.write(\"%s \" % val_token[i][0])\n",
    "        for token in tokens:\n",
    "            f.write(\"%i \" % token)\n",
    "        f.write(\"\\n\")\n",
    "\n",
    "with io.open('./Flickr8k/Flickr8k_text/test_captions.txt', 'w', encoding='utf-8') as f:\n",
    "    for i, tokens in enumerate(test_token_ids):\n",
    "        f.write(\"%s \" % test_token[i][0])\n",
    "        for token in tokens:\n",
    "            f.write(\"%i \" % token)\n",
    "        f.write(\"\\n\")"
   ]
  },
  {
   "cell_type": "code",
   "execution_count": 19,
   "metadata": {},
   "outputs": [],
   "source": [
    "checkpoints = './Flickr8k/Flickr8k_checkpoints/'\n",
    "results = './Flickr8k/Flickr8k_results/'"
   ]
  },
  {
   "cell_type": "code",
   "execution_count": 20,
   "metadata": {},
   "outputs": [],
   "source": [
    "if not os.path.exists(checkpoints):\n",
    "    os.mkdir(checkpoints)"
   ]
  },
  {
   "cell_type": "code",
   "execution_count": 21,
   "metadata": {},
   "outputs": [],
   "source": [
    "if not os.path.exists(results):\n",
    "    os.mkdir(results)"
   ]
  },
  {
   "cell_type": "markdown",
   "metadata": {},
   "source": [
    "## 2. Flickr8k Dataset"
   ]
  },
  {
   "cell_type": "code",
   "execution_count": 22,
   "metadata": {},
   "outputs": [],
   "source": [
    "class Flickr8k(Dataset):\n",
    "    def __init__(self, image_list, cap_dictionary, cap_length, transform=None):\n",
    "        \n",
    "        self.image_path='./Flickr8k/Flickr8k_resized_image/'\n",
    "        self.image_list=image_list\n",
    "        self.transform=transform\n",
    "        self.cap_dictionary=cap_dictionary\n",
    "        self.cap_length=cap_length\n",
    "    \n",
    "    def __getitem__(self, index):\n",
    "        image=self.image_list[index]\n",
    "        img_open=Image.open(self.image_path+image).convert('RGB')\n",
    "        \n",
    "        if self.transform is not None:\n",
    "            img_open=self.transform(img_open)\n",
    "        \n",
    "        caption = np.array(self.cap_dictionary[image])\n",
    "        lengths = self.cap_length[image]\n",
    "        \n",
    "        return img_open, caption, lengths\n",
    "        \n",
    "    def __len__(self):\n",
    "        return len(self.image_list)"
   ]
  },
  {
   "cell_type": "code",
   "execution_count": 23,
   "metadata": {},
   "outputs": [],
   "source": [
    "def get_flickr8k_loader(purpose, batch_size):\n",
    "    \n",
    "    if purpose not in ['train', 'val', 'test']:\n",
    "        raise NameError('Purpose should be train, val or test.')\n",
    "    \n",
    "    if purpose == 'train':\n",
    "        transform = transforms.Compose([transforms.RandomCrop(224),\n",
    "                                        transforms.RandomHorizontalFlip(),\n",
    "                                        transforms.ToTensor(),\n",
    "                                        transforms.Normalize((0.485, 0.456, 0.406), (0.229, 0.224, 0.225))])\n",
    "        \n",
    "        train_data=Flickr8k(train_image_list, train_token_ids_dict, train_cap_length, transform)\n",
    "        train_loader=DataLoader(train_data, batch_size=batch_size, shuffle=True)\n",
    "        return train_loader\n",
    "        \n",
    "    elif purpose == 'val':\n",
    "        transform = transforms.Compose([transforms.RandomCrop(224),\n",
    "                                        transforms.ToTensor(),\n",
    "                                        transforms.Normalize((0.485, 0.456, 0.406), (0.229, 0.224, 0.225))])\n",
    "        \n",
    "        val_data=Flickr8k(val_image_list, val_token_ids_dict, val_cap_length, transform)\n",
    "        val_loader=DataLoader(val_data, batch_size=batch_size, shuffle=True)\n",
    "        return val_loader\n",
    "    \n",
    "    elif purpose == 'test':\n",
    "        transform = transforms.Compose([transforms.RandomCrop(224),\n",
    "                                transforms.ToTensor(),\n",
    "                                transforms.Normalize((0.485, 0.456, 0.406), (0.229, 0.224, 0.225))])\n",
    "        \n",
    "        test_data=Flickr8k(test_image_list, test_token_ids_dict, test_cap_length, transform)\n",
    "        test_loader=DataLoader(test_data, batch_size=batch_size, shuffle=True)\n",
    "        return test_loader"
   ]
  },
  {
   "cell_type": "code",
   "execution_count": 24,
   "metadata": {},
   "outputs": [],
   "source": [
    "batch_size = 32\n",
    "\n",
    "train_loader = get_flickr8k_loader('train', batch_size)\n",
    "val_loader = get_flickr8k_loader('val', batch_size//6)\n",
    "test_loader = get_flickr8k_loader('test', batch_size//6)"
   ]
  },
  {
   "cell_type": "markdown",
   "metadata": {},
   "source": [
    "## 3. Models\n",
    "### 3.1 Encoder CNN"
   ]
  },
  {
   "cell_type": "code",
   "execution_count": 25,
   "metadata": {},
   "outputs": [],
   "source": [
    "class EncoderCNN(nn.Module):\n",
    "    def __init__(self, encoder_model, embed_size):\n",
    "        super(EncoderCNN, self).__init__()\n",
    "        \n",
    "        if encoder_model == 'VGG19':\n",
    "            vgg19 = models.vgg19_bn(pretrained=True)\n",
    "            modules = list(vgg19.children())[:-1]\n",
    "            self.vgg = nn.Sequential(*modules)\n",
    "            self.linear = nn.Linear(vgg19.classifier[0].in_features, embed_size)\n",
    "        \n",
    "        elif encoder_model == 'ResNet152':\n",
    "            resnet = models.resnet152(pretrained=True)\n",
    "            modules = list(resnet.children())[:-1]  # delete the last fc layer.\n",
    "            self.resnet = nn.Sequential(*modules)\n",
    "            self.linear = nn.Linear(resnet.fc.in_features, embed_size)\n",
    "            \n",
    "        self.bn = nn.BatchNorm1d(embed_size, momentum=0.01)\n",
    "        self.init_weights()\n",
    "\n",
    "    def init_weights(self):\n",
    "        self.linear.weight.data.normal_(0.0, 0.02)\n",
    "        self.linear.bias.data.fill_(0)\n",
    "\n",
    "    def forward(self, images):\n",
    "        with torch.no_grad():\n",
    "            features = self.vgg(images)\n",
    "        features = features.reshape(features.size(0), -1)\n",
    "        features = self.bn(self.linear(features))\n",
    "        return features"
   ]
  },
  {
   "cell_type": "markdown",
   "metadata": {},
   "source": [
    "### 3.2 Decoder RNN"
   ]
  },
  {
   "cell_type": "code",
   "execution_count": 26,
   "metadata": {},
   "outputs": [],
   "source": [
    "class DecoderRNN(nn.Module):\n",
    "    def __init__(self, decoder_model, vocab_size, embed_size, hidden_size, num_layers, max_seq_length=20):\n",
    "        super(DecoderRNN, self).__init__()\n",
    "        self.embed = nn.Embedding(vocab_size, embed_size)\n",
    "        \n",
    "        if decoder_model == \"LSTM\":\n",
    "            self.rnn = nn.LSTM(embed_size, hidden_size, num_layers, batch_first=True)\n",
    "        elif decoder_model == \"GRU\":\n",
    "            self.rnn = nn.GRU(embed_size, hidden_size, num_layers, batch_first=True)\n",
    "            \n",
    "        self.linear = nn.Linear(hidden_size, vocab_size)\n",
    "        self.max_seg_length = max_seq_length\n",
    "        \n",
    "    def forward(self, features, captions, lengths):\n",
    "        embeddings = self.embed(captions.long())\n",
    "        embeddings = torch.cat((features.unsqueeze(1), embeddings), 1)\n",
    "        packed = pack_padded_sequence(embeddings, lengths, batch_first=True) \n",
    "        hiddens, _ = self.rnn(packed)\n",
    "        outputs = self.linear(hiddens[0])\n",
    "        return outputs\n",
    "    \n",
    "    def sample(self, features, states=None):\n",
    "        sampled_ids = []\n",
    "        inputs = features.unsqueeze(1)\n",
    "        for i in range(self.max_seg_length):\n",
    "            hiddens, states = self.rnn(inputs, states)           # hiddens: (batch_size, 1, hidden_size)\n",
    "            outputs = self.linear(hiddens.squeeze(1))            # outputs:  (batch_size, vocab_size)\n",
    "            _, predicted = outputs.max(1)                        # predicted: (batch_size)\n",
    "            sampled_ids.append(predicted)\n",
    "            inputs = self.embed(predicted)                       # inputs: (batch_size, embed_size)\n",
    "            inputs = inputs.unsqueeze(1)                         # inputs: (batch_size, 1, embed_size)\n",
    "        sampled_ids = torch.stack(sampled_ids, 1)                # sampled_ids: (batch_size, max_seq_length)\n",
    "        return sampled_ids"
   ]
  },
  {
   "cell_type": "code",
   "execution_count": 27,
   "metadata": {},
   "outputs": [],
   "source": [
    "vocab_size = len(word2idx)\n",
    "embed_dim = 512\n",
    "hidden_dim = 512\n",
    "num_layers = 1\n",
    "\n",
    "encoder = EncoderCNN(\"VGG19\", embed_dim).to(device)\n",
    "decoder = DecoderRNN(\"GRU\", vocab_size, embed_dim, hidden_dim, num_layers).to(device)"
   ]
  },
  {
   "cell_type": "code",
   "execution_count": 28,
   "metadata": {},
   "outputs": [],
   "source": [
    "training_losses, val_losses, test_losses = [], [], []\n",
    "bleu1_list, bleu2_list, bleu3_list, bleu4_list = [], [], [], []"
   ]
  },
  {
   "cell_type": "markdown",
   "metadata": {},
   "source": [
    "## 4. Utils"
   ]
  },
  {
   "cell_type": "code",
   "execution_count": 29,
   "metadata": {},
   "outputs": [],
   "source": [
    "def sorting(image,caption,length):\n",
    "    srt=length.sort(descending=True)\n",
    "    image=image[srt[1]]\n",
    "    caption=caption[srt[1]]\n",
    "    length=srt[0]\n",
    "    return image, caption, length"
   ]
  },
  {
   "cell_type": "code",
   "execution_count": 30,
   "metadata": {},
   "outputs": [],
   "source": [
    "def sentence_generation(image, encoder, decoder):\n",
    "\n",
    "    image = image.to(device)\n",
    "    feature = encoder(image)\n",
    "    sampled_ids = decoder.sample(feature)\n",
    "    sampled_ids = sampled_ids[0].cpu().numpy()\n",
    "    caption = []\n",
    "    \n",
    "    for idx in sampled_ids:\n",
    "        word = idx2word_dict[idx]\n",
    "        caption.append(word)\n",
    "        if word == '<end>':\n",
    "            break\n",
    "    sentence = ' '.join(caption)\n",
    "    \n",
    "    return sentence"
   ]
  },
  {
   "cell_type": "code",
   "execution_count": 31,
   "metadata": {},
   "outputs": [],
   "source": [
    "def load_image(image_path):\n",
    "    image = Image.open(image_path)\n",
    "    image = image.resize([224, 224], Image.LANCZOS)\n",
    "    \n",
    "    transform = transforms.Compose([\n",
    "        transforms.ToTensor(), \n",
    "        transforms.Normalize((0.485, 0.456, 0.406), \n",
    "                             (0.229, 0.224, 0.225))])\n",
    "    \n",
    "    image = transform(image).unsqueeze(0)\n",
    "    \n",
    "    return image"
   ]
  },
  {
   "cell_type": "code",
   "execution_count": 32,
   "metadata": {},
   "outputs": [],
   "source": [
    "def getRandomFile(img_list):\n",
    "    index = random.randrange(0, len(img_list))\n",
    "    return img_list[index]"
   ]
  },
  {
   "cell_type": "code",
   "execution_count": 33,
   "metadata": {},
   "outputs": [],
   "source": [
    "def plot_losses(losses1, losses2, model):\n",
    "    plt.figure(figsize=(5, 5))\n",
    "    plt.plot(losses1, label='Train', marker='o', alpha=0.5)\n",
    "    plt.plot(losses2, label='Validation', marker='o', alpha=0.5)\n",
    "    plt.xlabel('Epochs')\n",
    "    plt.ylabel('Losses')\n",
    "    plt.legend()\n",
    "    plt.grid(b=True)\n",
    "    plt.title('Show And Tell Losses with {}'.format(model.__class__.__name__))\n",
    "    plt.savefig('./Flickr8k/Flickr8k_results/Show And Tell Losses with {}.png'.format(model.__class__.__name__))\n",
    "    plt.show()"
   ]
  },
  {
   "cell_type": "code",
   "execution_count": 34,
   "metadata": {},
   "outputs": [],
   "source": [
    "def plot_bleu(bleu1, bleu2, bleu3, bleu4, model):\n",
    "    plt.figure(figsize=(5, 5))\n",
    "    plt.plot(bleu1_list, label='BLEU 1', marker='o', alpha=0.5)\n",
    "    plt.plot(bleu2_list, label='BLEU 2', marker='o', alpha=0.5)\n",
    "    plt.plot(bleu3_list, label='BLEU 3', marker='o', alpha=0.5)\n",
    "    plt.plot(bleu4_list, label='BLEU 4', marker='o', alpha=0.5)\n",
    "    plt.xlabel('Epochs')\n",
    "    plt.ylabel('BLEU Score')\n",
    "    plt.legend(loc='best')\n",
    "    plt.grid()\n",
    "    plt.title('Show And Tell {} BLEU Score'.format(model.__class__.__name__))\n",
    "    plt.savefig('./Flickr8k/Flickr8k_results/Show And Tell {} BLEU Score.png'.format(model.__class__.__name__))\n",
    "    plt.show()"
   ]
  },
  {
   "cell_type": "code",
   "execution_count": 35,
   "metadata": {},
   "outputs": [],
   "source": [
    "def track_losses(encoder, purpose):\n",
    "    if purpose == 'train':\n",
    "        with open(os.path.join(results, encoder.__class__.__name__ + '_lr_{}_bs_{}_'.format(lr, batch_size) +'training_losses.txt'), 'w', encoding = \"utf-8\") as f:\n",
    "            for loss in training_losses:\n",
    "                f.write(str(loss))\n",
    "                f.write('\\n')\n",
    "\n",
    "    elif purpose == 'val':\n",
    "        with open(os.path.join(results, encoder.__class__.__name__ + '_lr_{}_bs_{}_'.format(lr, batch_size) +'val_losses.txt'), 'w', encoding = \"utf-8\") as f:\n",
    "            for loss in val_losses:\n",
    "                f.write(str(loss))\n",
    "                f.write('\\n')"
   ]
  },
  {
   "cell_type": "markdown",
   "metadata": {},
   "source": [
    "## 5. Training, Validation and Test\n",
    "### 5.1 Define Relevant Functions"
   ]
  },
  {
   "cell_type": "code",
   "execution_count": 36,
   "metadata": {},
   "outputs": [],
   "source": [
    "criterion = nn.CrossEntropyLoss()\n",
    "\n",
    "lr = 0.001\n",
    "params = list(decoder.parameters()) + list(encoder.linear.parameters()) + list(encoder.bn.parameters())\n",
    "optimizer = torch.optim.Adam(params, lr=lr)"
   ]
  },
  {
   "cell_type": "code",
   "execution_count": 37,
   "metadata": {},
   "outputs": [],
   "source": [
    "def training(data_loader, encoder, decoder, criterion, optimizer, epoch, num_epochs):\n",
    "    \n",
    "    t1 = time.time()\n",
    "    \n",
    "    encoder.train()\n",
    "    decoder.train()\n",
    "    \n",
    "    for i, (images, captions, lengths) in enumerate(train_loader):\n",
    "        \n",
    "        images = images.to(device)\n",
    "        captions = captions.to(device)\n",
    "        lengths = lengths.to(device)\n",
    "        \n",
    "        encoder.zero_grad()\n",
    "        decoder.zero_grad()\n",
    "        \n",
    "        images, captions, lengths = sorting(images, captions, lengths)\n",
    "        \n",
    "        targets = pack_padded_sequence(captions, lengths, batch_first=True)[0]\n",
    "        targets = targets.long()\n",
    "        \n",
    "        features = encoder(images)\n",
    "        outputs = decoder(features, captions, lengths)\n",
    "        \n",
    "        loss = criterion(outputs, targets)\n",
    "        loss.backward()\n",
    "        optimizer.step()\n",
    "        \n",
    "        if i % 100 == 0:\n",
    "            print('Training | Epochs [{}/{}] | Step [{}/{}] | Loss: {:.4f} | Perplexity: {:.4f}'\n",
    "                  .format(epoch+1, num_epochs, i, len(train_loader), loss.item(), np.exp(loss.item())))\n",
    "            \n",
    "            training_losses.append(loss.item())\n",
    "            \n",
    "    t2 = time.time()\n",
    "    print(\"Training epoch {} took {:.1f}s.\\n\".format(epoch+1, t2-t1))"
   ]
  },
  {
   "cell_type": "code",
   "execution_count": 38,
   "metadata": {},
   "outputs": [],
   "source": [
    "def validation(data_loader, encoder, decoder, criterion, epoch, num_epochs):\n",
    "    \n",
    "    t1 = time.time()\n",
    "    \n",
    "    encoder = encoder.to(device)\n",
    "    decoder = decoder.to(device)\n",
    "    encoder.eval()\n",
    "    decoder.eval()\n",
    "    \n",
    "    for i, (images,captions,lengths) in enumerate(data_loader):\n",
    "        \n",
    "        images = images.to(device)\n",
    "        captions = captions.to(device)\n",
    "\n",
    "        images, captions, lengths = sorting(images, captions, lengths)\n",
    "\n",
    "        targets = pack_padded_sequence(captions, lengths, batch_first=True)[0]\n",
    "        targets = targets.long()\n",
    "\n",
    "        with torch.no_grad():\n",
    "            features = encoder(images)\n",
    "            outputs = decoder(features, captions, lengths)\n",
    "            loss = criterion(outputs, targets)\n",
    "            \n",
    "        if i % 100 == 0:\n",
    "            val_losses.append(loss.item())\n",
    "  \n",
    "    total, bleu1, bleu2, bleu3, bleu4 = 0, 0, 0, 0, 0\n",
    "\n",
    "    with torch.no_grad():        \n",
    "        hypothesis = []\n",
    "        for i in range(len(val_image_list)):\n",
    "\n",
    "            file=val_image_list[i]\n",
    "            image = load_image('./Flickr8k/Flickr8k_resized_image/'+ str(file))\n",
    "            \n",
    "            sentence = sentence_generation(image, encoder, decoder)\n",
    "            hypothesis.append([file,sentence])            \n",
    "            org_sentence=annot[file]            \n",
    "            generated=word_tokenize(str(sentence))\n",
    "\n",
    "            actual=[]\n",
    "            for j in org_sentence:\n",
    "                actual.append(word_tokenize(j[0]))   \n",
    "\n",
    "            score_bleu1 = sentence_bleu(actual, generated, weights=(1, 0, 0, 0))\n",
    "            score_bleu2 = sentence_bleu(actual, generated, weights=(0, 1, 0, 0))\n",
    "            score_bleu3 = sentence_bleu(actual, generated, weights=(0, 0, 1, 0))\n",
    "            score_bleu4 = sentence_bleu(actual, generated, weights=(0, 0, 0, 1))\n",
    "            \n",
    "            bleu1 += score_bleu1\n",
    "            bleu2 += score_bleu2    \n",
    "            bleu3 += score_bleu3\n",
    "            bleu4 += score_bleu4\n",
    "            total +=1\n",
    "            \n",
    "    bleu1_list.append(100*bleu1/total)\n",
    "    bleu2_list.append(100*bleu2/total)\n",
    "    bleu3_list.append(100*bleu3/total)\n",
    "    bleu4_list.append(100*bleu4/total)\n",
    "                \n",
    "    t2 = time.time()    \n",
    "    \n",
    "    print(\"Validation | Epoch [{}/{}] | Loss: {:.4f} | BLEU 1: {:.4f} | BLEU 2: {:.4f} | BLEU 3: {:.4f} | BLEU 4: {:.4f}\".\n",
    "          format(epoch+1, num_epochs, np.average(val_losses), np.average(bleu1_list), np.average(bleu2_list), np.average(bleu3_list), np.average(bleu4_list)))\n",
    "          \n",
    "    print(\"Validation epoch {} took {:.1f}s.\\n\".format(epoch+1, t2-t1))"
   ]
  },
  {
   "cell_type": "markdown",
   "metadata": {},
   "source": [
    "### 5.2 Training, Validation and Test"
   ]
  },
  {
   "cell_type": "code",
   "execution_count": 39,
   "metadata": {},
   "outputs": [],
   "source": [
    "torch.cuda.empty_cache()"
   ]
  },
  {
   "cell_type": "code",
   "execution_count": 40,
   "metadata": {
    "scrolled": false
   },
   "outputs": [
    {
     "name": "stdout",
     "output_type": "stream",
     "text": [
      "Training | Epochs [1/10] | Step [0/188] | Loss: 8.2974 | Perplexity: 4013.6057\n",
      "Training | Epochs [1/10] | Step [100/188] | Loss: 3.3396 | Perplexity: 28.2072\n",
      "Training epoch 1 took 59.9s.\n",
      "\n",
      "Validation | Epoch [1/10] | Loss: 2.9369 | BLEU 1: 36.2789 | BLEU 2: 11.4723 | BLEU 3: 3.5308 | BLEU 4: 1.4418\n",
      "Validation epoch 1 took 40.7s.\n",
      "\n",
      "Training | Epochs [2/10] | Step [0/188] | Loss: 2.8502 | Perplexity: 17.2912\n",
      "Training | Epochs [2/10] | Step [100/188] | Loss: 2.8279 | Perplexity: 16.9106\n",
      "Training epoch 2 took 57.7s.\n",
      "\n",
      "Validation | Epoch [2/10] | Loss: 2.9601 | BLEU 1: 36.2791 | BLEU 2: 11.9932 | BLEU 3: 3.8034 | BLEU 4: 1.5309\n",
      "Validation epoch 2 took 38.5s.\n",
      "\n",
      "Training | Epochs [3/10] | Step [0/188] | Loss: 2.2615 | Perplexity: 9.5974\n",
      "Training | Epochs [3/10] | Step [100/188] | Loss: 2.3556 | Perplexity: 10.5447\n",
      "Training epoch 3 took 60.3s.\n",
      "\n",
      "Validation | Epoch [3/10] | Loss: 2.8815 | BLEU 1: 36.4474 | BLEU 2: 12.1273 | BLEU 3: 4.0964 | BLEU 4: 1.6477\n",
      "Validation epoch 3 took 41.5s.\n",
      "\n",
      "Training | Epochs [4/10] | Step [0/188] | Loss: 2.0807 | Perplexity: 8.0098\n",
      "Training | Epochs [4/10] | Step [100/188] | Loss: 2.0818 | Perplexity: 8.0189\n",
      "Training epoch 4 took 58.1s.\n",
      "\n",
      "Validation | Epoch [4/10] | Loss: 2.9414 | BLEU 1: 36.4066 | BLEU 2: 12.1886 | BLEU 3: 4.2104 | BLEU 4: 1.6910\n",
      "Validation epoch 4 took 41.1s.\n",
      "\n",
      "Training | Epochs [5/10] | Step [0/188] | Loss: 1.7568 | Perplexity: 5.7941\n",
      "Training | Epochs [5/10] | Step [100/188] | Loss: 1.8416 | Perplexity: 6.3065\n",
      "Training epoch 5 took 60.5s.\n",
      "\n",
      "Validation | Epoch [5/10] | Loss: 2.9169 | BLEU 1: 36.4282 | BLEU 2: 12.2913 | BLEU 3: 4.3717 | BLEU 4: 1.7687\n",
      "Validation epoch 5 took 40.3s.\n",
      "\n",
      "Training | Epochs [6/10] | Step [0/188] | Loss: 1.4624 | Perplexity: 4.3164\n",
      "Training | Epochs [6/10] | Step [100/188] | Loss: 1.5187 | Perplexity: 4.5663\n",
      "Training epoch 6 took 57.5s.\n",
      "\n",
      "Validation | Epoch [6/10] | Loss: 2.9147 | BLEU 1: 36.2998 | BLEU 2: 12.2989 | BLEU 3: 4.4292 | BLEU 4: 1.7898\n",
      "Validation epoch 6 took 39.2s.\n",
      "\n",
      "Training | Epochs [7/10] | Step [0/188] | Loss: 1.2177 | Perplexity: 3.3795\n",
      "Training | Epochs [7/10] | Step [100/188] | Loss: 1.1461 | Perplexity: 3.1459\n",
      "Training epoch 7 took 59.8s.\n",
      "\n",
      "Validation | Epoch [7/10] | Loss: 3.0199 | BLEU 1: 36.1554 | BLEU 2: 12.2292 | BLEU 3: 4.4077 | BLEU 4: 1.7604\n",
      "Validation epoch 7 took 39.9s.\n",
      "\n",
      "Training | Epochs [8/10] | Step [0/188] | Loss: 0.9769 | Perplexity: 2.6562\n",
      "Training | Epochs [8/10] | Step [100/188] | Loss: 1.0460 | Perplexity: 2.8463\n",
      "Training epoch 8 took 59.2s.\n",
      "\n",
      "Validation | Epoch [8/10] | Loss: 3.0362 | BLEU 1: 36.0480 | BLEU 2: 12.1879 | BLEU 3: 4.4659 | BLEU 4: 1.7894\n",
      "Validation epoch 8 took 40.8s.\n",
      "\n",
      "Training | Epochs [9/10] | Step [0/188] | Loss: 0.7385 | Perplexity: 2.0927\n",
      "Training | Epochs [9/10] | Step [100/188] | Loss: 0.8716 | Perplexity: 2.3907\n",
      "Training epoch 9 took 57.5s.\n",
      "\n",
      "Validation | Epoch [9/10] | Loss: 3.0909 | BLEU 1: 35.9050 | BLEU 2: 12.1033 | BLEU 3: 4.4542 | BLEU 4: 1.7769\n",
      "Validation epoch 9 took 38.7s.\n",
      "\n",
      "Training | Epochs [10/10] | Step [0/188] | Loss: 0.6002 | Perplexity: 1.8224\n",
      "Training | Epochs [10/10] | Step [100/188] | Loss: 0.8397 | Perplexity: 2.3156\n",
      "Training epoch 10 took 57.5s.\n",
      "\n",
      "Validation | Epoch [10/10] | Loss: 3.0802 | BLEU 1: 35.8088 | BLEU 2: 12.1106 | BLEU 3: 4.4761 | BLEU 4: 1.7694\n",
      "Validation epoch 10 took 39.2s.\n",
      "\n",
      "Training and Validation with EncoderCNN took 989.74s.\n"
     ]
    }
   ],
   "source": [
    "num_epochs = 10\n",
    "\n",
    "t1 = time.time()\n",
    "for epoch in range(num_epochs):\n",
    "    training(train_loader, encoder, decoder, criterion, optimizer, epoch, num_epochs)\n",
    "    validation(val_loader, encoder, decoder, criterion, epoch, num_epochs)\n",
    "    \n",
    "    torch.save(encoder.state_dict(), os.path.join(checkpoints,'{}_epoch_{}_lr_{}_bs_{}.model'.format(encoder.__class__.__name__, epoch+1, lr, batch_size)))\n",
    "    torch.save(decoder.state_dict(), os.path.join(checkpoints,'{}_epoch_{}_lr_{}_bs_{}.model'.format(decoder.__class__.__name__, epoch+1, lr, batch_size)))\n",
    "    \n",
    "track_losses(encoder, 'train')\n",
    "track_losses(encoder, 'val')\n",
    "t2 = time.time()\n",
    "\n",
    "print(\"Training and Validation with {} took {:.2f}s.\".format(encoder.__class__.__name__, t2-t1))"
   ]
  },
  {
   "cell_type": "markdown",
   "metadata": {},
   "source": [
    "### 5.3 Visualization"
   ]
  },
  {
   "cell_type": "code",
   "execution_count": 41,
   "metadata": {},
   "outputs": [
    {
     "data": {
      "image/png": "[encoded data removed]",
      "text/plain": [
       "<Figure size 360x360 with 1 Axes>"
      ]
     },
     "metadata": {
      "needs_background": "light"
     },
     "output_type": "display_data"
    }
   ],
   "source": [
    "plot_losses(training_losses, val_losses, encoder)"
   ]
  },
  {
   "cell_type": "code",
   "execution_count": 42,
   "metadata": {},
   "outputs": [
    {
     "data": {
      "image/png": "[encoded data removed]",
      "text/plain": [
       "<Figure size 360x360 with 1 Axes>"
      ]
     },
     "metadata": {
      "needs_background": "light"
     },
     "output_type": "display_data"
    }
   ],
   "source": [
    "plot_bleu(bleu1_list, bleu2_list, bleu3_list, bleu4_list, encoder)"
   ]
  },
  {
   "cell_type": "markdown",
   "metadata": {},
   "source": [
    "### 5.4 Test"
   ]
  },
  {
   "cell_type": "code",
   "execution_count": 43,
   "metadata": {},
   "outputs": [],
   "source": [
    "def test(data_loader, encoder, decoder, criterion):\n",
    "    \n",
    "    encoder = encoder.to(device)\n",
    "    decoder = decoder.to(device)\n",
    "    encoder.eval()\n",
    "    decoder.eval()\n",
    "    \n",
    "    for i, (images,captions,lengths) in enumerate(data_loader):\n",
    "        \n",
    "        images = images.to(device)\n",
    "        captions = captions.to(device)\n",
    "\n",
    "        images, captions, lengths = sorting(images, captions, lengths)\n",
    "\n",
    "        targets = pack_padded_sequence(captions, lengths, batch_first=True)[0]\n",
    "        targets = targets.long()\n",
    "\n",
    "        with torch.no_grad():\n",
    "            features = encoder(images)\n",
    "            outputs = decoder(features, captions, lengths)\n",
    "            loss = criterion(outputs, targets)\n",
    "            \n",
    "        if i % 1000 == 0:\n",
    "            test_losses.append(loss.item())\n",
    "  \n",
    "    total, bleu1, bleu2, bleu3, bleu4 = 0, 0, 0, 0, 0\n",
    "\n",
    "    with torch.no_grad():        \n",
    "        hypothesis = []\n",
    "        for i in range(len(test_image_list)):\n",
    "\n",
    "            file=test_image_list[i]\n",
    "            image = load_image('./Flickr8k/Flickr8k_resized_image/'+ str(file))\n",
    "            \n",
    "            sentence = sentence_generation(image, encoder, decoder)\n",
    "            hypothesis.append([file,sentence])            \n",
    "            org_sentence=annot[file]            \n",
    "            generated=word_tokenize(str(sentence))\n",
    "\n",
    "            actual=[]\n",
    "            for j in org_sentence:\n",
    "                actual.append(word_tokenize(j[0]))   \n",
    "\n",
    "            score_bleu1 = sentence_bleu(actual, generated, weights=(1, 0, 0, 0))\n",
    "            score_bleu2 = sentence_bleu(actual, generated, weights=(0, 1, 0, 0))\n",
    "            score_bleu3 = sentence_bleu(actual, generated, weights=(0, 0, 1, 0))\n",
    "            score_bleu4 = sentence_bleu(actual, generated, weights=(0, 0, 0, 1))\n",
    "            \n",
    "            bleu1 += score_bleu1\n",
    "            bleu2 += score_bleu2    \n",
    "            bleu3 += score_bleu3\n",
    "            bleu4 += score_bleu4\n",
    "            total +=1\n",
    "            \n",
    "    bleu1_list.append(100*bleu1/total)\n",
    "    bleu2_list.append(100*bleu2/total)\n",
    "    bleu3_list.append(100*bleu3/total)\n",
    "    bleu4_list.append(100*bleu4/total)\n",
    "    \n",
    "    print(\"Test | Loss: {:.4f} | BLEU 1: {:.4f} | BLEU 2: {:.4f} | BLEU 3: {:.4f} | BLEU 4: {:.4f}\\n\".\n",
    "          format(np.average(test_losses), np.average(bleu1_list), np.average(bleu2_list), np.average(bleu3_list), np.average(bleu4_list)))"
   ]
  },
  {
   "cell_type": "code",
   "execution_count": 44,
   "metadata": {},
   "outputs": [],
   "source": [
    "best_epoch = 5"
   ]
  },
  {
   "cell_type": "code",
   "execution_count": 45,
   "metadata": {},
   "outputs": [
    {
     "name": "stdout",
     "output_type": "stream",
     "text": [
      "Test | Loss: 2.5403 | BLEU 1: 35.8845 | BLEU 2: 12.1477 | BLEU 3: 4.4995 | BLEU 4: 1.7937\n",
      "\n"
     ]
    }
   ],
   "source": [
    "encoder_path = './Flickr8k/Flickr8k_checkpoints/{}_epoch_{}_lr_{}_bs_{}.model'.format(encoder.__class__.__name__, best_epoch, lr, batch_size)\n",
    "decoder_path = './Flickr8k/Flickr8k_checkpoints/{}_epoch_{}_lr_{}_bs_{}.model'.format(decoder.__class__.__name__, best_epoch, lr, batch_size)\n",
    "\n",
    "encoder.load_state_dict(torch.load(encoder_path))\n",
    "decoder.load_state_dict(torch.load(decoder_path))\n",
    "\n",
    "test(test_loader, encoder, decoder, criterion)"
   ]
  },
  {
   "cell_type": "markdown",
   "metadata": {},
   "source": [
    "## 6. Inference"
   ]
  },
  {
   "cell_type": "code",
   "execution_count": 46,
   "metadata": {},
   "outputs": [
    {
     "data": {
      "text/plain": [
       "<All keys matched successfully>"
      ]
     },
     "execution_count": 46,
     "metadata": {},
     "output_type": "execute_result"
    }
   ],
   "source": [
    "encoder_path = './Flickr8k/Flickr8k_checkpoints/{}_epoch_{}_lr_{}_bs_{}.model'.format(encoder.__class__.__name__, best_epoch, lr, batch_size)\n",
    "decoder_path = './Flickr8k/Flickr8k_checkpoints/{}_epoch_{}_lr_{}_bs_{}.model'.format(decoder.__class__.__name__, best_epoch, lr, batch_size)\n",
    "encoder.load_state_dict(torch.load(encoder_path))\n",
    "decoder.load_state_dict(torch.load(decoder_path))"
   ]
  },
  {
   "cell_type": "code",
   "execution_count": 48,
   "metadata": {
    "scrolled": true
   },
   "outputs": [
    {
     "data": {
      "image/png": "[encoded data removed]",
      "text/plain": [
       "<Figure size 432x288 with 1 Axes>"
      ]
     },
     "metadata": {
      "needs_background": "light"
     },
     "output_type": "display_data"
    }
   ],
   "source": [
    "file = getRandomFile(test_image_list)\n",
    "image = load_image('./Flickr8k/Flickr8k_resized_image/'+ str(file))\n",
    "\n",
    "sentence = sentence_generation(image, encoder, decoder)\n",
    "image = Image.open('./Flickr8k/Flickr8k_resized_image/'+ str(file))\n",
    "plt.title(sentence)\n",
    "plt.imshow(np.asarray(image))\n",
    "plt.axis(\"off\")\n",
    "plt.savefig(\"./Flickr8k/Flickr8k_results/{}_Epoch_{}.png\".format(encoder.__class__.__name__, best_epoch))"
   ]
  },
  {
   "cell_type": "code",
   "execution_count": null,
   "metadata": {},
   "outputs": [],
   "source": []
  }
 ],
 "metadata": {
  "kernelspec": {
   "display_name": "Python 3",
   "language": "python",
   "name": "python3"
  },
  "language_info": {
   "codemirror_mode": {
    "name": "ipython",
    "version": 3
   },
   "file_extension": ".py",
   "mimetype": "text/x-python",
   "name": "python",
   "nbconvert_exporter": "python",
   "pygments_lexer": "ipython3",
   "version": "3.7.4"
  }
 },
 "nbformat": 4,
 "nbformat_minor": 2
}
