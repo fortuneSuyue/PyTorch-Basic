{
 "cells": [
  {
   "cell_type": "markdown",
   "metadata": {
    "colab_type": "text",
    "id": "SzhPPNJoQqJ7"
   },
   "source": [
    "# Convolutional Neural Network\n",
    "\n",
    "### Contents\n",
    "    1. Introduction\n",
    "    2. Import Libraries\n",
    "    3. CIFAR10 Dataset\n",
    "    4. Build Convolutional Neural Network\n",
    "    5. Train the Model\n",
    "    6. Test the Model\n",
    "    7. Save the Model"
   ]
  },
  {
   "cell_type": "markdown",
   "metadata": {
    "colab_type": "text",
    "id": "9nYhz3SnQqKC"
   },
   "source": [
    "## 1. Introduction\n",
    "**Convolutional Neural Network**, often abbreviated as **CNN**, is one variant of deep neural network, which is very effective in processing visual information. It typically consists of convolutional layers that extracts features from images, pooling layers that reduces the dimension of data, and fully connected layers that are used to classifies the images. <br/>\n",
    "<br>The below image describes the aforementioned architecture. `Conv` layer and `pool` layer compose of feature extraction layers and fully connected layer performs classification."
   ]
  },
  {
   "cell_type": "markdown",
   "metadata": {
    "colab_type": "text",
    "id": "nE1tO6X8QqKF"
   },
   "source": [
    "![CNN_Architecture](./Images/CNN_Architecture.png)\n",
    "[Image source](https://www.researchgate.net/figure/An-example-of-CNN-architecture_fig1_320748406)"
   ]
  },
  {
   "cell_type": "markdown",
   "metadata": {
    "colab_type": "text",
    "id": "WvVFX-bxQqKL"
   },
   "source": [
    "The main characteristics of CNN follows;\n",
    "* Maintain shape of input/output data of each layer\n",
    "* Effectively recognize features of adjacent images while maintaining spatial information of the images\n",
    "* Extract and learn features of an image with multiple filters\n",
    "* Pooling layer to collect and enhace features of extracted images\n",
    "* Filter used as a shared parameters, fewer parameters compared to general deep neural networks\n",
    "\n",
    "The detailed information on CNN can be found at this [link](http://cs231n.github.io/convolutional-networks/)"
   ]
  },
  {
   "cell_type": "markdown",
   "metadata": {
    "colab_type": "text",
    "id": "tqxkNq-lQqKP"
   },
   "source": [
    "## 2. Import Libraries"
   ]
  },
  {
   "cell_type": "code",
   "execution_count": 1,
   "metadata": {
    "colab": {},
    "colab_type": "code",
    "id": "ECWmhAq6QqKS"
   },
   "outputs": [],
   "source": [
    "import torch\n",
    "import torch.nn as nn\n",
    "import torch.optim as optim\n",
    "from torch.utils.data import DataLoader\n",
    "\n",
    "import torchvision\n",
    "import torchvision.datasets as datasets\n",
    "import torchvision.transforms as transforms\n",
    "import torchvision.utils as vutils\n",
    "\n",
    "import numpy as np\n",
    "import os\n",
    "import warnings\n",
    "from matplotlib import pyplot as plt\n",
    "warnings.filterwarnings('ignore')"
   ]
  },
  {
   "cell_type": "code",
   "execution_count": 2,
   "metadata": {
    "colab": {
     "base_uri": "https://localhost:8080/",
     "height": 35
    },
    "colab_type": "code",
    "id": "c5ZUN-WaQqKc",
    "outputId": "c4c4702d-d332-4073-8d31-29954083276f"
   },
   "outputs": [
    {
     "name": "stdout",
     "output_type": "stream",
     "text": [
      "1.5.1+cpu\n"
     ]
    }
   ],
   "source": [
    "print(torch.__version__)"
   ]
  },
  {
   "cell_type": "code",
   "execution_count": 3,
   "metadata": {
    "colab": {
     "base_uri": "https://localhost:8080/",
     "height": 35
    },
    "colab_type": "code",
    "id": "nCTYRgDyQqKn",
    "outputId": "ca4a038e-6bf7-4e97-e9e7-97ec7d6d94ef"
   },
   "outputs": [
    {
     "name": "stdout",
     "output_type": "stream",
     "text": [
      "cpu\n"
     ]
    }
   ],
   "source": [
    "# CPU / GPU Setting\n",
    "device = torch.device('cuda' if torch.cuda.is_available() else 'cpu')\n",
    "print(device)"
   ]
  },
  {
   "cell_type": "markdown",
   "metadata": {
    "colab_type": "text",
    "id": "DH4PT4d9QqKv"
   },
   "source": [
    "## 3. Dataset with CIFAR10\n",
    "\n",
    "It is provided by the University of Torronto and collected by Alex Krizhevsky, Vinod Nair, and Geoffrey Hinton. The CIFAR-10 dataset consists of 60,000 32x32 color images in 10 classes, with 6,000 images per class. Its total size is 163MB for python. Further information is provided to [this link](https://www.cs.toronto.edu/~kriz/cifar.html)\n",
    "\n",
    "<img src = './Images/CIFAR10.png' width=\"600\" height=\"600\" align = \"left\">"
   ]
  },
  {
   "cell_type": "code",
   "execution_count": 4,
   "metadata": {
    "colab": {},
    "colab_type": "code",
    "id": "QkNUgEuQQqK4"
   },
   "outputs": [],
   "source": [
    "# define a transform to normalize the data\n",
    "\n",
    "transform_train = transforms.Compose([\n",
    "    transforms.RandomCrop(32, padding=4),\n",
    "    transforms.RandomHorizontalFlip(),\n",
    "    transforms.ToTensor(), # converting images to tensor\n",
    "    transforms.Normalize(mean = (0.5, 0.5, 0.5), std = (0.5, 0.5, 0.5)) \n",
    "    # if the image dataset is black and white image, there can be just one number. \n",
    "])\n",
    "\n",
    "transform_test = transforms.Compose([\n",
    "    transforms.ToTensor(),\n",
    "    transforms.Normalize(mean = (0.5, 0.5, 0.5), std = (0.5, 0.5, 0.5))\n",
    "])"
   ]
  },
  {
   "cell_type": "code",
   "execution_count": 5,
   "metadata": {
    "colab": {
     "base_uri": "https://localhost:8080/",
     "height": 35
    },
    "colab_type": "code",
    "id": "X7-HBlPmQqLB",
    "outputId": "0c39f9d3-1746-497c-98bc-bea4410b6ec6",
    "scrolled": true
   },
   "outputs": [
    {
     "name": "stdout",
     "output_type": "stream",
     "text": [
      "Files already downloaded and verified\n"
     ]
    }
   ],
   "source": [
    "# number of images in one forward and backward pass\n",
    "batch_size = 128\n",
    "\n",
    "# number of subprocesses used for data loading\n",
    "# Normally do not use it if your os is windows\n",
    "num_workers = 2\n",
    "\n",
    "train_dataset = datasets.CIFAR10('./data/CIFAR10/', \n",
    "                                 train = True, \n",
    "                                 download = True, \n",
    "                                 transform = transform_train)\n",
    "\n",
    "train_loader = DataLoader(train_dataset, \n",
    "                          batch_size = batch_size, \n",
    "                          shuffle = True, \n",
    "                          num_workers = num_workers)\n",
    "\n",
    "val_dataset = datasets.CIFAR10('./data/CIFAR10', \n",
    "                                train = True, \n",
    "                                transform = transform_test)\n",
    "\n",
    "val_loader = DataLoader(val_dataset, \n",
    "                        batch_size = batch_size, \n",
    "                        shuffle = False, \n",
    "                        num_workers = num_workers)\n",
    "\n",
    "test_dataset = datasets.CIFAR10('./data/CIFAR10', \n",
    "                                train = False, \n",
    "                                transform = transform_test)\n",
    "\n",
    "test_loader = DataLoader(test_dataset, \n",
    "                         batch_size = batch_size, \n",
    "                         shuffle = False, \n",
    "                         num_workers = num_workers)"
   ]
  },
  {
   "cell_type": "code",
   "execution_count": 6,
   "metadata": {
    "colab": {},
    "colab_type": "code",
    "id": "rKa9pjB1QqLL"
   },
   "outputs": [],
   "source": [
    "# declare classes in CIFAR10\n",
    "\n",
    "classes = ('plane', 'car', 'bird', 'cat', 'deer', 'dog', 'frog', 'horse', 'ship', 'truck')"
   ]
  },
  {
   "cell_type": "code",
   "execution_count": 7,
   "metadata": {
    "colab": {},
    "colab_type": "code",
    "id": "xwypNrEMQqLT"
   },
   "outputs": [],
   "source": [
    "# function that will be used for visualizing the data\n",
    "\n",
    "def imshow(img):\n",
    "    img = img / 2 + 0.5  # unnormalize\n",
    "    plt.imshow(np.transpose(img, (1, 2, 0)))  # convert from Tensor image"
   ]
  },
  {
   "cell_type": "code",
   "execution_count": 8,
   "metadata": {
    "colab": {
     "base_uri": "https://localhost:8080/",
     "height": 189
    },
    "colab_type": "code",
    "id": "OtASDFpyQqLc",
    "outputId": "aae21d30-7c07-4fec-a96a-223bbc6577fc"
   },
   "outputs": [
    {
     "data": {
      "image/png": "[encoded data removed]",
      "text/plain": [
       "<Figure size 1800x288 with 10 Axes>"
      ]
     },
     "metadata": {},
     "output_type": "display_data"
    }
   ],
   "source": [
    "# obtain one batch of imges from train dataset\n",
    "dataiter = iter(train_loader)\n",
    "images, labels = dataiter.next()\n",
    "images = images.numpy() # convert images to numpy for display\n",
    "\n",
    "# plot the images in one batch with the corresponding labels\n",
    "fig = plt.figure(figsize = (25, 4))\n",
    "\n",
    "# display images\n",
    "for idx in np.arange(10):\n",
    "    ax = fig.add_subplot(1, 10, idx+1, xticks=[], yticks=[])\n",
    "    imshow(images[idx])\n",
    "    ax.set_title(classes[labels[idx]])"
   ]
  },
  {
   "cell_type": "markdown",
   "metadata": {
    "colab_type": "text",
    "id": "OTV_26UwQqLn"
   },
   "source": [
    "## 4. Build Convolutional Neural Network\n",
    "Those terms are used in the CNN.\n",
    "- Convolution\n",
    "- Channel\n",
    "- Filter (Kernel)\n",
    "- Stride\n",
    "- Padding\n",
    "- Pooling Layer <br/>\n",
    "<br> 1. Convolution </br>\n",
    "<br> The below image describes effectively process of Convolution.\n",
    "<img src = \"./Images/CNN_kernel.gif\">\n",
    "<br> 2. Channel </br>\n",
    "<br> Color images consists of 3 channels - RGB - Red, Green and Blue. Black and White images consists of 1 channel - Black and white. For example, if the color image's height and width is 200 pixel and 400 pixel respectively, its shape is (200, 400, 3). If the black and white image's height and width is 400 pixel and 600 pixel respectively, its shape is (400, 600, 1). </br>\n",
    "<br> </br>\n",
    "<br> 3. Filter </br>\n",
    "<br> It is a global parameter that is used to extract features in an image. It is also called a 'kernel'. It is typically a square, 3x3 or 5x5. In the above image, it is a 3x3 yellow matrix. It has numerous different types, identity, edge detection, sharpen, gaussian blur filter and so on.\n",
    "<br> </br>\n",
    "<br> 4. Stride </br>\n",
    "<br> Filter calculates the convolution by iterating over the input data at specific intervals. Thus, the number of pixels shifts over the input matrix is called Stride. </br>\n",
    "<br> </br>\n",
    "<br> 5. Padding </br>\n",
    "<br> Padding prevents a reduction of output layer of Convolutional layer. It means filling outer pixels of input images with a specific value. </br>\n",
    "<br> </br>\n",
    "<br> 6. Pooling layer </br>\n",
    "<br> Its main purpose is to reduce the size of the ouput data or to emphasize the specific pattern. Mainly there are max pooling and average pooling, the below image helps the understanding.\n",
    "<img src = \"./Images/Pooling.png\" height = \"300px\" width = \"400px\">\n",
    "It is also very important to know how to calculate the feature map size. Let output size `O`, input size `N`, padding `P`, filter (or kernel) `F`, stride `S`. Then, the equation becomes `O = (N+2P-F)/S + 1`. If its result is not an integer but a float, the computer automatically conducts round down. <br/>\n",
    "<br> Using the concepts aforementioned, we can develop our own convolutional neural network architecture that aims to classify CIFAR10 dataset. </br>"
   ]
  },
  {
   "cell_type": "code",
   "execution_count": 9,
   "metadata": {
    "colab": {},
    "colab_type": "code",
    "id": "u1CbQHjiQqL5"
   },
   "outputs": [],
   "source": [
    "# define the CNN architecture\n",
    "\n",
    "class CNN(nn.Module):\n",
    "    def __init__(self):\n",
    "        super(CNN, self).__init__()\n",
    "        \n",
    "        self.main = nn.Sequential(\n",
    "            # 3x32x32\n",
    "            nn.Conv2d(in_channels = 3, out_channels = 32, kernel_size = 3, padding = 1), # 3x32x32 (O = (N+2P-F/S)+1)\n",
    "            nn.ReLU(inplace=True),\n",
    "            nn.MaxPool2d(kernel_size = 2, stride = 2), # 32x16x16\n",
    "            nn.BatchNorm2d(32),\n",
    "            \n",
    "            nn.Conv2d(32, 64, kernel_size = 3, padding = 1), # 32x16x16\n",
    "            nn.ReLU(inplace=True),\n",
    "            nn.MaxPool2d(2, 2), # 64x8x8\n",
    "            nn.BatchNorm2d(64),\n",
    "            \n",
    "            nn.Conv2d(64, 128, 3, padding = 1), # 64x8x8\n",
    "            nn.ReLU(inplace=True),\n",
    "            nn.MaxPool2d(2, 2), # 128x4x4\n",
    "            nn.BatchNorm2d(128),\n",
    "        )\n",
    "        \n",
    "        self.fc = nn.Sequential(\n",
    "            nn.Linear(128*4*4, 1024),\n",
    "            nn.ReLU(inplace=True),\n",
    "            nn.Dropout(0.5),\n",
    "            \n",
    "            nn.Linear(1024, 256),\n",
    "            nn.ReLU(inplace=True),\n",
    "            nn.Dropout(0.5),\n",
    "            \n",
    "            nn.Linear(256, 10)\n",
    "        )\n",
    "        \n",
    "    def forward(self, x):\n",
    "        # Conv and Poolilng layers\n",
    "        x = self.main(x)\n",
    "        \n",
    "        # Flatten before Fully Connected layers\n",
    "        x = x.view(-1, 128*4*4) \n",
    "        \n",
    "        # Fully Connected Layer\n",
    "        x = self.fc(x)\n",
    "        return x"
   ]
  },
  {
   "cell_type": "code",
   "execution_count": 10,
   "metadata": {
    "colab": {
     "base_uri": "https://localhost:8080/",
     "height": 467
    },
    "colab_type": "code",
    "id": "GbEP9N8BQqMB",
    "outputId": "68902959-cb36-42c0-b661-a7d16786a60e"
   },
   "outputs": [
    {
     "data": {
      "text/plain": [
       "CNN(\n",
       "  (main): Sequential(\n",
       "    (0): Conv2d(3, 32, kernel_size=(3, 3), stride=(1, 1), padding=(1, 1))\n",
       "    (1): ReLU(inplace=True)\n",
       "    (2): MaxPool2d(kernel_size=2, stride=2, padding=0, dilation=1, ceil_mode=False)\n",
       "    (3): BatchNorm2d(32, eps=1e-05, momentum=0.1, affine=True, track_running_stats=True)\n",
       "    (4): Conv2d(32, 64, kernel_size=(3, 3), stride=(1, 1), padding=(1, 1))\n",
       "    (5): ReLU(inplace=True)\n",
       "    (6): MaxPool2d(kernel_size=2, stride=2, padding=0, dilation=1, ceil_mode=False)\n",
       "    (7): BatchNorm2d(64, eps=1e-05, momentum=0.1, affine=True, track_running_stats=True)\n",
       "    (8): Conv2d(64, 128, kernel_size=(3, 3), stride=(1, 1), padding=(1, 1))\n",
       "    (9): ReLU(inplace=True)\n",
       "    (10): MaxPool2d(kernel_size=2, stride=2, padding=0, dilation=1, ceil_mode=False)\n",
       "    (11): BatchNorm2d(128, eps=1e-05, momentum=0.1, affine=True, track_running_stats=True)\n",
       "  )\n",
       "  (fc): Sequential(\n",
       "    (0): Linear(in_features=2048, out_features=1024, bias=True)\n",
       "    (1): ReLU(inplace=True)\n",
       "    (2): Dropout(p=0.5, inplace=False)\n",
       "    (3): Linear(in_features=1024, out_features=256, bias=True)\n",
       "    (4): ReLU(inplace=True)\n",
       "    (5): Dropout(p=0.5, inplace=False)\n",
       "    (6): Linear(in_features=256, out_features=10, bias=True)\n",
       "  )\n",
       ")"
      ]
     },
     "execution_count": 10,
     "metadata": {},
     "output_type": "execute_result"
    }
   ],
   "source": [
    "# printout information on CNN architecture\n",
    "\n",
    "cnn = CNN().to(device)\n",
    "cnn"
   ]
  },
  {
   "cell_type": "markdown",
   "metadata": {
    "colab_type": "text",
    "id": "7PFKybuFQqMK"
   },
   "source": [
    "`torch.nn.CrossEntropyLoss` is used to for the classification model whose output is a probability between 0 and 1. \n",
    "`torch.optim.Adam` is used as it shows the best performance so far."
   ]
  },
  {
   "cell_type": "code",
   "execution_count": 11,
   "metadata": {
    "colab": {},
    "colab_type": "code",
    "id": "Sr1pWRn_QqMN"
   },
   "outputs": [],
   "source": [
    "# Hyper Parameters\n",
    "learning_rate = 0.001\n",
    "train_losses = []\n",
    "val_losses = []\n",
    "\n",
    "# Loss function and Optimizer\n",
    "criterion = nn.CrossEntropyLoss()\n",
    "optimizer = optim.Adam(cnn.parameters(), lr = learning_rate)"
   ]
  },
  {
   "cell_type": "markdown",
   "metadata": {
    "colab_type": "text",
    "id": "K5x4AhLwQqMV"
   },
   "source": [
    "## 5. Train the Model"
   ]
  },
  {
   "cell_type": "code",
   "execution_count": 12,
   "metadata": {
    "colab": {},
    "colab_type": "code",
    "id": "QaTVhFdwQqMY"
   },
   "outputs": [],
   "source": [
    "# define train function that trains the model using a CIFAR10 dataset\n",
    "\n",
    "def train(model, epoch, num_epochs):\n",
    "    model.train()\n",
    "    \n",
    "    total_batch = len(train_dataset) // batch_size\n",
    "    \n",
    "    for i, (images, labels) in enumerate(train_loader):\n",
    "            \n",
    "        X = images.to(device)\n",
    "        Y = labels.to(device)\n",
    "\n",
    "        ### forward pass and loss calculation\n",
    "        # forward pass\n",
    "        pred = model(X)\n",
    "        #c alculation  of loss value\n",
    "        cost = criterion(pred, Y)\n",
    "\n",
    "        ### backward pass and optimization\n",
    "        # gradient initialization\n",
    "        optimizer.zero_grad()\n",
    "        # backward pass\n",
    "        cost.backward()\n",
    "        # parameter update\n",
    "        optimizer.step()\n",
    "            \n",
    "        # training stats\n",
    "        if (i+1) % 100 == 0:\n",
    "            print('Train, Epoch [%d/%d], lter [%d/%d], Loss: %.4f' \n",
    "                  % (epoch+1, num_epochs, i+1, total_batch, np.average(train_losses)))\n",
    "            \n",
    "            train_losses.append(cost.item())"
   ]
  },
  {
   "cell_type": "code",
   "execution_count": 13,
   "metadata": {},
   "outputs": [],
   "source": [
    "# def the validation function that validates the model using CIFAR10 dataset\n",
    "\n",
    "def validation(model, epoch, num_epochs):\n",
    "    model.eval()\n",
    "    \n",
    "    total_batch = len(val_dataset) // batch_size\n",
    "    \n",
    "    for i, (images, labels) in enumerate(val_loader):\n",
    "        \n",
    "        X = images.to(device)\n",
    "        Y = labels.to(device)\n",
    "        \n",
    "        with torch.no_grad():\n",
    "            pred = model(X)\n",
    "            cost = criterion(pred, Y)\n",
    "        \n",
    "        if (i+1) % 100 == 0:\n",
    "            print(\"Validation, Epoch [%d/%d], lter [%d/%d], Loss: %.4f\"\n",
    "                  % (epoch+1, num_epochs, i+1, total_batch, np.average(val_losses)))\n",
    "            \n",
    "            val_losses.append(cost.item())"
   ]
  },
  {
   "cell_type": "code",
   "execution_count": 14,
   "metadata": {},
   "outputs": [],
   "source": [
    "def plot_losses(train_losses, val_losses):\n",
    "    plt.figure(figsize=(5, 5))\n",
    "    plt.plot(train_losses, label='Train', alpha=0.5)\n",
    "    plt.plot(val_losses, label='Validation', alpha=0.5)\n",
    "    plt.xlabel('Epochs')\n",
    "    plt.ylabel('Losses')\n",
    "    plt.legend()\n",
    "    plt.grid(b=True)\n",
    "    plt.title('CIFAR 10 Train/Val Losses Over Epoch')\n",
    "    plt.show()"
   ]
  },
  {
   "cell_type": "code",
   "execution_count": 15,
   "metadata": {},
   "outputs": [
    {
     "name": "stdout",
     "output_type": "stream",
     "text": [
      "Train, Epoch [1/20], lter [100/390], Loss: nan\n",
      "Train, Epoch [1/20], lter [200/390], Loss: 1.4725\n",
      "Train, Epoch [1/20], lter [300/390], Loss: 1.3758\n",
      "Validation, Epoch [1/20], lter [100/390], Loss: nan\n",
      "Validation, Epoch [1/20], lter [200/390], Loss: 0.9379\n",
      "Validation, Epoch [1/20], lter [300/390], Loss: 0.9114\n",
      "Train, Epoch [2/20], lter [100/390], Loss: 1.3173\n",
      "Train, Epoch [2/20], lter [200/390], Loss: 1.2400\n",
      "Train, Epoch [2/20], lter [300/390], Loss: 1.1808\n",
      "Validation, Epoch [2/20], lter [100/390], Loss: 0.9342\n",
      "Validation, Epoch [2/20], lter [200/390], Loss: 0.8919\n",
      "Validation, Epoch [2/20], lter [300/390], Loss: 0.8767\n",
      "Train, Epoch [3/20], lter [100/390], Loss: 1.1499\n",
      "Train, Epoch [3/20], lter [200/390], Loss: 1.1115\n",
      "Train, Epoch [3/20], lter [300/390], Loss: 1.0732\n",
      "Validation, Epoch [3/20], lter [100/390], Loss: 0.8804\n",
      "Validation, Epoch [3/20], lter [200/390], Loss: 0.8540\n",
      "Validation, Epoch [3/20], lter [300/390], Loss: 0.8306\n",
      "Train, Epoch [4/20], lter [100/390], Loss: 1.0677\n",
      "Train, Epoch [4/20], lter [200/390], Loss: 1.0342\n",
      "Train, Epoch [4/20], lter [300/390], Loss: 1.0281\n",
      "Validation, Epoch [4/20], lter [100/390], Loss: 0.8139\n",
      "Validation, Epoch [4/20], lter [200/390], Loss: 0.7924\n",
      "Validation, Epoch [4/20], lter [300/390], Loss: 0.7730\n",
      "Train, Epoch [5/20], lter [100/390], Loss: 1.0147\n",
      "Train, Epoch [5/20], lter [200/390], Loss: 1.0004\n",
      "Train, Epoch [5/20], lter [300/390], Loss: 0.9885\n",
      "Validation, Epoch [5/20], lter [100/390], Loss: 0.7581\n",
      "Validation, Epoch [5/20], lter [200/390], Loss: 0.7382\n",
      "Validation, Epoch [5/20], lter [300/390], Loss: 0.7241\n",
      "Train, Epoch [6/20], lter [100/390], Loss: 0.9696\n",
      "Train, Epoch [6/20], lter [200/390], Loss: 0.9576\n",
      "Train, Epoch [6/20], lter [300/390], Loss: 0.9370\n",
      "Validation, Epoch [6/20], lter [100/390], Loss: 0.7181\n",
      "Validation, Epoch [6/20], lter [200/390], Loss: 0.7061\n",
      "Validation, Epoch [6/20], lter [300/390], Loss: 0.7004\n",
      "Train, Epoch [7/20], lter [100/390], Loss: 0.9152\n",
      "Train, Epoch [7/20], lter [200/390], Loss: 0.9001\n",
      "Train, Epoch [7/20], lter [300/390], Loss: 0.8914\n",
      "Validation, Epoch [7/20], lter [100/390], Loss: 0.6931\n",
      "Validation, Epoch [7/20], lter [200/390], Loss: 0.6827\n",
      "Validation, Epoch [7/20], lter [300/390], Loss: 0.6768\n",
      "Train, Epoch [8/20], lter [100/390], Loss: 0.8751\n",
      "Train, Epoch [8/20], lter [200/390], Loss: 0.8693\n",
      "Train, Epoch [8/20], lter [300/390], Loss: 0.8743\n",
      "Validation, Epoch [8/20], lter [100/390], Loss: 0.6694\n",
      "Validation, Epoch [8/20], lter [200/390], Loss: 0.6598\n",
      "Validation, Epoch [8/20], lter [300/390], Loss: 0.6536\n",
      "Train, Epoch [9/20], lter [100/390], Loss: 0.8691\n",
      "Train, Epoch [9/20], lter [200/390], Loss: 0.8608\n",
      "Train, Epoch [9/20], lter [300/390], Loss: 0.8507\n",
      "Validation, Epoch [9/20], lter [100/390], Loss: 0.6496\n",
      "Validation, Epoch [9/20], lter [200/390], Loss: 0.6405\n",
      "Validation, Epoch [9/20], lter [300/390], Loss: 0.6359\n",
      "Train, Epoch [10/20], lter [100/390], Loss: 0.8531\n",
      "Train, Epoch [10/20], lter [200/390], Loss: 0.8469\n",
      "Train, Epoch [10/20], lter [300/390], Loss: 0.8377\n",
      "Validation, Epoch [10/20], lter [100/390], Loss: 0.6320\n",
      "Validation, Epoch [10/20], lter [200/390], Loss: 0.6240\n",
      "Validation, Epoch [10/20], lter [300/390], Loss: 0.6184\n",
      "Train, Epoch [11/20], lter [100/390], Loss: 0.8277\n",
      "Train, Epoch [11/20], lter [200/390], Loss: 0.8225\n",
      "Train, Epoch [11/20], lter [300/390], Loss: 0.8147\n",
      "Validation, Epoch [11/20], lter [100/390], Loss: 0.6107\n",
      "Validation, Epoch [11/20], lter [200/390], Loss: 0.6042\n",
      "Validation, Epoch [11/20], lter [300/390], Loss: 0.6023\n",
      "Train, Epoch [12/20], lter [100/390], Loss: 0.8147\n",
      "Train, Epoch [12/20], lter [200/390], Loss: 0.8080\n",
      "Train, Epoch [12/20], lter [300/390], Loss: 0.8012\n",
      "Validation, Epoch [12/20], lter [100/390], Loss: 0.5967\n",
      "Validation, Epoch [12/20], lter [200/390], Loss: 0.5921\n",
      "Validation, Epoch [12/20], lter [300/390], Loss: 0.5887\n",
      "Train, Epoch [13/20], lter [100/390], Loss: 0.7941\n",
      "Train, Epoch [13/20], lter [200/390], Loss: 0.7870\n",
      "Train, Epoch [13/20], lter [300/390], Loss: 0.7823\n",
      "Validation, Epoch [13/20], lter [100/390], Loss: 0.5845\n",
      "Validation, Epoch [13/20], lter [200/390], Loss: 0.5791\n",
      "Validation, Epoch [13/20], lter [300/390], Loss: 0.5751\n",
      "Train, Epoch [14/20], lter [100/390], Loss: 0.7773\n",
      "Train, Epoch [14/20], lter [200/390], Loss: 0.7772\n",
      "Train, Epoch [14/20], lter [300/390], Loss: 0.7725\n",
      "Validation, Epoch [14/20], lter [100/390], Loss: 0.5697\n",
      "Validation, Epoch [14/20], lter [200/390], Loss: 0.5649\n",
      "Validation, Epoch [14/20], lter [300/390], Loss: 0.5616\n",
      "Train, Epoch [15/20], lter [100/390], Loss: 0.7645\n",
      "Train, Epoch [15/20], lter [200/390], Loss: 0.7625\n",
      "Train, Epoch [15/20], lter [300/390], Loss: 0.7600\n",
      "Validation, Epoch [15/20], lter [100/390], Loss: 0.5578\n",
      "Validation, Epoch [15/20], lter [200/390], Loss: 0.5533\n",
      "Validation, Epoch [15/20], lter [300/390], Loss: 0.5506\n",
      "Train, Epoch [16/20], lter [100/390], Loss: 0.7567\n",
      "Train, Epoch [16/20], lter [200/390], Loss: 0.7523\n",
      "Train, Epoch [16/20], lter [300/390], Loss: 0.7508\n",
      "Validation, Epoch [16/20], lter [100/390], Loss: 0.5460\n",
      "Validation, Epoch [16/20], lter [200/390], Loss: 0.5405\n",
      "Validation, Epoch [16/20], lter [300/390], Loss: 0.5372\n",
      "Train, Epoch [17/20], lter [100/390], Loss: 0.7446\n",
      "Train, Epoch [17/20], lter [200/390], Loss: 0.7432\n",
      "Train, Epoch [17/20], lter [300/390], Loss: 0.7387\n",
      "Validation, Epoch [17/20], lter [100/390], Loss: 0.5334\n",
      "Validation, Epoch [17/20], lter [200/390], Loss: 0.5297\n",
      "Validation, Epoch [17/20], lter [300/390], Loss: 0.5269\n",
      "Train, Epoch [18/20], lter [100/390], Loss: 0.7383\n",
      "Train, Epoch [18/20], lter [200/390], Loss: 0.7367\n",
      "Train, Epoch [18/20], lter [300/390], Loss: 0.7295\n",
      "Validation, Epoch [18/20], lter [100/390], Loss: 0.5230\n",
      "Validation, Epoch [18/20], lter [200/390], Loss: 0.5184\n",
      "Validation, Epoch [18/20], lter [300/390], Loss: 0.5157\n",
      "Train, Epoch [19/20], lter [100/390], Loss: 0.7261\n",
      "Train, Epoch [19/20], lter [200/390], Loss: 0.7237\n",
      "Train, Epoch [19/20], lter [300/390], Loss: 0.7196\n",
      "Validation, Epoch [19/20], lter [100/390], Loss: 0.5120\n",
      "Validation, Epoch [19/20], lter [200/390], Loss: 0.5091\n",
      "Validation, Epoch [19/20], lter [300/390], Loss: 0.5068\n",
      "Train, Epoch [20/20], lter [100/390], Loss: 0.7162\n",
      "Train, Epoch [20/20], lter [200/390], Loss: 0.7130\n",
      "Train, Epoch [20/20], lter [300/390], Loss: 0.7115\n",
      "Validation, Epoch [20/20], lter [100/390], Loss: 0.5035\n",
      "Validation, Epoch [20/20], lter [200/390], Loss: 0.4996\n",
      "Validation, Epoch [20/20], lter [300/390], Loss: 0.4972\n"
     ]
    },
    {
     "data": {
      "image/png": "[encoded data removed]",
      "text/plain": [
       "<Figure size 360x360 with 1 Axes>"
      ]
     },
     "metadata": {
      "needs_background": "light"
     },
     "output_type": "display_data"
    }
   ],
   "source": [
    "num_epochs = 20\n",
    "for epoch in range(num_epochs):\n",
    "    train(cnn, epoch, num_epochs)\n",
    "    validation(cnn, epoch, num_epochs)\n",
    "    torch.save(cnn.state_dict(), './data/Tutorial_3_CNN_Epoch_{}.pkl'.format(epoch+1))\n",
    "\n",
    "plot_losses(train_losses, val_losses)"
   ]
  },
  {
   "cell_type": "markdown",
   "metadata": {
    "colab_type": "text",
    "id": "tND0UkHRQqMq"
   },
   "source": [
    "## 6. Test the Model\n",
    "This neural network should be checked by comparing the class labels that it predicted against the ground-truth. If the prediction is correct, one is added to the list of correct predictions."
   ]
  },
  {
   "cell_type": "code",
   "execution_count": 16,
   "metadata": {
    "colab": {},
    "colab_type": "code",
    "id": "sdMd75_nQqMt"
   },
   "outputs": [],
   "source": [
    "def test(model):\n",
    "    \n",
    "    # declare that the model is about to evaluate\n",
    "    model.eval()\n",
    "\n",
    "    correct = 0\n",
    "    total = 0\n",
    "    \n",
    "    with torch.no_grad():\n",
    "        for images, labels in test_dataset:\n",
    "            images = images.unsqueeze(0).to(device)\n",
    "            \n",
    "            # forward pass\n",
    "            outputs = model(images)\n",
    "            \n",
    "            _, predicted = torch.max(outputs.data, 1)\n",
    "            total += 1\n",
    "            correct += (predicted == labels).sum().item()\n",
    "\n",
    "    print(\"Accuracy of Test Images: %f %%\" % (100 * float(correct) / total))"
   ]
  },
  {
   "cell_type": "code",
   "execution_count": 17,
   "metadata": {
    "colab": {
     "base_uri": "https://localhost:8080/",
     "height": 35
    },
    "colab_type": "code",
    "id": "63Ogg8AxQqM1",
    "outputId": "47282850-44f1-4f3c-a44b-f884d80e0f0f"
   },
   "outputs": [
    {
     "name": "stdout",
     "output_type": "stream",
     "text": [
      "Accuracy of Test Images: 83.720000 %\n"
     ]
    }
   ],
   "source": [
    "test(model = cnn)"
   ]
  },
  {
   "cell_type": "markdown",
   "metadata": {
    "colab_type": "text",
    "id": "gQh60p-fQqM9"
   },
   "source": [
    "It is desirable to figure out on which classes the model performed well or not. "
   ]
  },
  {
   "cell_type": "code",
   "execution_count": 18,
   "metadata": {
    "colab": {
     "base_uri": "https://localhost:8080/",
     "height": 197
    },
    "colab_type": "code",
    "id": "x_kfloExQqND",
    "outputId": "ae5e03f7-eae0-457e-a624-f71ad705ab6d"
   },
   "outputs": [
    {
     "name": "stdout",
     "output_type": "stream",
     "text": [
      "Accuracy of plane : 100 %\n",
      "Accuracy of   car : 92 %\n",
      "Accuracy of  bird : 72 %\n",
      "Accuracy of   cat : 58 %\n",
      "Accuracy of  deer : 88 %\n",
      "Accuracy of   dog : 72 %\n",
      "Accuracy of  frog : 77 %\n",
      "Accuracy of horse : 80 %\n",
      "Accuracy of  ship : 93 %\n",
      "Accuracy of truck : 84 %\n"
     ]
    }
   ],
   "source": [
    "class_correct = list(0. for i in range(10))\n",
    "class_total = list(0. for i in range(10))\n",
    "\n",
    "with torch.no_grad():\n",
    "    \n",
    "    for data in test_loader:\n",
    "        images, labels = data\n",
    "        images = images.to(device)\n",
    "        labels = labels.to(device)\n",
    "        outputs = cnn(images)\n",
    "        \n",
    "        _, predicted = torch.max(outputs, 1)\n",
    "        c = (predicted == labels).squeeze()\n",
    "        \n",
    "        for i in range(4):\n",
    "            label = labels[i]\n",
    "            class_correct[label] += c[i].item()\n",
    "            class_total[label] += 1\n",
    "\n",
    "\n",
    "for i in range(10):\n",
    "    print('Accuracy of %5s : %2d %%' % (\n",
    "        classes[i], 100 * class_correct[i] / class_total[i]))"
   ]
  },
  {
   "cell_type": "code",
   "execution_count": null,
   "metadata": {},
   "outputs": [],
   "source": []
  }
 ],
 "metadata": {
  "accelerator": "GPU",
  "colab": {
   "collapsed_sections": [],
   "name": "3. CNN.ipynb",
   "provenance": []
  },
  "kernelspec": {
   "display_name": "Python 3",
   "language": "python",
   "name": "python3"
  },
  "language_info": {
   "codemirror_mode": {
    "name": "ipython",
    "version": 3
   },
   "file_extension": ".py",
   "mimetype": "text/x-python",
   "name": "python",
   "nbconvert_exporter": "python",
   "pygments_lexer": "ipython3",
   "version": "3.7.3"
  }
 },
 "nbformat": 4,
 "nbformat_minor": 1
}
