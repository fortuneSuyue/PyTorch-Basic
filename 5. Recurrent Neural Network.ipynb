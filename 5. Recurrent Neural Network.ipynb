{
 "cells": [
  {
   "cell_type": "markdown",
   "metadata": {},
   "source": [
    "# Recurrent Neural Network\n",
    "\n",
    "### Contents\n",
    "    1. Introduction\n",
    "    2. Import Libraries\n",
    "    3. Dataset with Ethereum (Bitcoin) Historical Data\n",
    "    4. Build Recurrent Neural Network Models\n",
    "    5. Train the Model\n",
    "    6. Test the Model\n",
    "    7. Save the Model\n",
    "    8. References"
   ]
  },
  {
   "cell_type": "markdown",
   "metadata": {},
   "source": [
    "## 1. Introduction\n",
    "\n",
    "When human read a text, they understand each word based on the previous words, not from scratch for each word. This can be called **memory**. Convolutional Neural Network models (CNNs) cannot implement this concept of **memory** thus Recurrent Neural Network models (RNNs) are introduced to address this problem. They are networks with loops in them, allowing information to persist (memory).\n",
    "![VanillaRNN](./Images/VanillaRNN.png)\n",
    "\n",
    "If this model is unrolled, it can be considered as multiple copies of the same network, each of them passing information to next. In other words, The first RNN is receiving input vectors and the second RNN is receiving the output of the first RNN and passing its output to the third RNN. \n",
    "![UnrolledVanillaRNN](./Images/UnrolledVanillaRNN.png)\n",
    "\n",
    "\n",
    "Its variant diagrams and corresponding applications are described below.\n",
    "![Application](./Images/RNNapplication.png)\n",
    "\n",
    "The applications of RNN are, \n",
    "- Words in image caption (one to many)\n",
    "- Sentiment analysis (many to one, sequence input)\n",
    "- Machine translation (many to many, sequence input and sequence output)\n",
    "- Speech recognition (many to many)\n",
    "\n",
    "It is widely used for processing sequencial data for predictions and natural language processing. As Vanilla RNN is suffering from short-term memory (gradient vanishing problem), LSTM and GRU are introduced to resolve this issue. Especially LSTM is widely adopted to deep learning models. \n",
    "\n",
    "This notebook covers how variants of RNN can be implemented via PyTorch and apply them to BitCoin price prediction."
   ]
  },
  {
   "cell_type": "markdown",
   "metadata": {},
   "source": [
    "## 2. Import Libraries\n",
    "Import the packages that are necessary for implementing recurrent neural network. "
   ]
  },
  {
   "cell_type": "code",
   "execution_count": 1,
   "metadata": {},
   "outputs": [],
   "source": [
    "import torch\n",
    "import torch.nn as nn\n",
    "import torch.optim as optim\n",
    "from torch.autograd import Variable\n",
    "import torch.utils.data as Data\n",
    "from torch.utils.data import DataLoader\n",
    "\n",
    "import torchvision\n",
    "import torchvision.datasets as datasets\n",
    "import torchvision.transforms as transforms\n",
    "import torchvision.utils as vutils\n",
    "\n",
    "import numpy as np\n",
    "import pandas as pd\n",
    "import matplotlib.pyplot as plt\n",
    "import os\n",
    "import warnings\n",
    "warnings.filterwarnings('ignore')"
   ]
  },
  {
   "cell_type": "code",
   "execution_count": 2,
   "metadata": {},
   "outputs": [
    {
     "name": "stdout",
     "output_type": "stream",
     "text": [
      "1.1.0\n"
     ]
    }
   ],
   "source": [
    "print(torch.__version__)"
   ]
  },
  {
   "cell_type": "code",
   "execution_count": 3,
   "metadata": {
    "scrolled": true
   },
   "outputs": [
    {
     "name": "stdout",
     "output_type": "stream",
     "text": [
      "cpu\n"
     ]
    }
   ],
   "source": [
    "device = torch.device('cuda' if torch.cuda.is_available() else 'cpu')\n",
    "print(device)"
   ]
  },
  {
   "cell_type": "markdown",
   "metadata": {},
   "source": [
    "## 3. Dataset with Ethereum (Bitcoin) Historical Data\n",
    "\n",
    "Time-series data, not language data, will be handled by comparing performance of variants of RNN.The data will be used is from [Kaggle Ethereum Historical Data](https://www.kaggle.com/kingburrito666/ethereum-historical-data). Ehtereum blockchain is a kind of cryptocurrency."
   ]
  },
  {
   "cell_type": "code",
   "execution_count": 4,
   "metadata": {},
   "outputs": [
    {
     "data": {
      "text/html": [
       "<div>\n",
       "<style scoped>\n",
       "    .dataframe tbody tr th:only-of-type {\n",
       "        vertical-align: middle;\n",
       "    }\n",
       "\n",
       "    .dataframe tbody tr th {\n",
       "        vertical-align: top;\n",
       "    }\n",
       "\n",
       "    .dataframe thead th {\n",
       "        text-align: right;\n",
       "    }\n",
       "</style>\n",
       "<table border=\"1\" class=\"dataframe\">\n",
       "  <thead>\n",
       "    <tr style=\"text-align: right;\">\n",
       "      <th></th>\n",
       "      <th>Date(UTC)</th>\n",
       "      <th>UnixTimeStamp</th>\n",
       "      <th>Value</th>\n",
       "    </tr>\n",
       "  </thead>\n",
       "  <tbody>\n",
       "    <tr>\n",
       "      <th>1159</th>\n",
       "      <td>10/1/2018</td>\n",
       "      <td>1538352000</td>\n",
       "      <td>230.89</td>\n",
       "    </tr>\n",
       "    <tr>\n",
       "      <th>1160</th>\n",
       "      <td>10/2/2018</td>\n",
       "      <td>1538438400</td>\n",
       "      <td>225.41</td>\n",
       "    </tr>\n",
       "    <tr>\n",
       "      <th>1161</th>\n",
       "      <td>10/3/2018</td>\n",
       "      <td>1538524800</td>\n",
       "      <td>219.97</td>\n",
       "    </tr>\n",
       "    <tr>\n",
       "      <th>1162</th>\n",
       "      <td>10/4/2018</td>\n",
       "      <td>1538611200</td>\n",
       "      <td>221.76</td>\n",
       "    </tr>\n",
       "    <tr>\n",
       "      <th>1163</th>\n",
       "      <td>10/5/2018</td>\n",
       "      <td>1538697600</td>\n",
       "      <td>227.90</td>\n",
       "    </tr>\n",
       "  </tbody>\n",
       "</table>\n",
       "</div>"
      ],
      "text/plain": [
       "      Date(UTC)  UnixTimeStamp   Value\n",
       "1159  10/1/2018     1538352000  230.89\n",
       "1160  10/2/2018     1538438400  225.41\n",
       "1161  10/3/2018     1538524800  219.97\n",
       "1162  10/4/2018     1538611200  221.76\n",
       "1163  10/5/2018     1538697600  227.90"
      ]
     },
     "execution_count": 4,
     "metadata": {},
     "output_type": "execute_result"
    }
   ],
   "source": [
    "data = pd.read_csv(\"./data/EtherPriceHistory(USD).csv\")\n",
    "data.tail()"
   ]
  },
  {
   "cell_type": "code",
   "execution_count": 5,
   "metadata": {},
   "outputs": [
    {
     "data": {
      "text/plain": [
       "Date(UTC)        0\n",
       "UnixTimeStamp    0\n",
       "Value            0\n",
       "dtype: int64"
      ]
     },
     "execution_count": 5,
     "metadata": {},
     "output_type": "execute_result"
    }
   ],
   "source": [
    "data.isnull().sum()"
   ]
  },
  {
   "cell_type": "markdown",
   "metadata": {},
   "source": [
    "No data is missing so don't have to drop null data."
   ]
  },
  {
   "cell_type": "code",
   "execution_count": 6,
   "metadata": {},
   "outputs": [
    {
     "data": {
      "text/plain": [
       "1164"
      ]
     },
     "execution_count": 6,
     "metadata": {},
     "output_type": "execute_result"
    }
   ],
   "source": [
    "len(data)"
   ]
  },
  {
   "cell_type": "markdown",
   "metadata": {},
   "source": [
    "So we have data length of 1164. Then I will plot the data to see the trend of bitcoin price. "
   ]
  },
  {
   "cell_type": "code",
   "execution_count": 7,
   "metadata": {
    "scrolled": false
   },
   "outputs": [
    {
     "data": {
      "image/png": "[encoded data removed]",
      "text/plain": [
       "<Figure size 864x576 with 1 Axes>"
      ]
     },
     "metadata": {
      "needs_background": "light"
     },
     "output_type": "display_data"
    }
   ],
   "source": [
    "plt.figure(figsize = (12, 8))\n",
    "plt.plot(data[\"Date(UTC)\"], data[\"Value\"])\n",
    "plt.xlabel(\"Date\")\n",
    "plt.ylabel(\"Price\")\n",
    "plt.title(\"Ethereum Price History\")\n",
    "plt.show()"
   ]
  },
  {
   "cell_type": "code",
   "execution_count": 8,
   "metadata": {},
   "outputs": [],
   "source": [
    "# Hyper parameters\n",
    "threshold = 116\n",
    "window = 30\n",
    "\n",
    "input_size = 1\n",
    "hidden_size = 50\n",
    "num_layers = 3\n",
    "output_size = 1\n",
    "\n",
    "learning_rate = 0.001\n",
    "batch_size = 16"
   ]
  },
  {
   "cell_type": "code",
   "execution_count": 9,
   "metadata": {
    "scrolled": true
   },
   "outputs": [
    {
     "data": {
      "text/plain": [
       "(1048, 116)"
      ]
     },
     "execution_count": 9,
     "metadata": {},
     "output_type": "execute_result"
    }
   ],
   "source": [
    "train_data = data['Value'][:len(data) - threshold]\n",
    "test_data = data['Value'][len(data) - threshold:]\n",
    "\n",
    "len(train_data), len(test_data)"
   ]
  },
  {
   "cell_type": "markdown",
   "metadata": {},
   "source": [
    "Shuffling training data is not desired choice. The below function is make a sliding window that sweeps through all the training data. It extracts the feature of tendency."
   ]
  },
  {
   "cell_type": "code",
   "execution_count": 10,
   "metadata": {},
   "outputs": [],
   "source": [
    "def create_sequences(input_data, window):\n",
    "    length = len(input_data)\n",
    "    \n",
    "    x = input_data[0:window].values\n",
    "    y = input_data[1:window+1].values\n",
    "    \n",
    "    for i in range(1, length - window):\n",
    "        x = np.vstack((x, input_data[i:i+window].values))\n",
    "        y = np.vstack((y, input_data[i+1:window+1+i].values))\n",
    "        \n",
    "        sequence = torch.from_numpy(x).type(torch.FloatTensor)\n",
    "        label = torch.from_numpy(y).type(torch.FloatTensor)\n",
    "        \n",
    "        sequence = Data.TensorDataset(sequence, label)\n",
    "        \n",
    "    return sequence"
   ]
  },
  {
   "cell_type": "code",
   "execution_count": 11,
   "metadata": {},
   "outputs": [],
   "source": [
    "train_data = create_sequences(train_data, window)"
   ]
  },
  {
   "cell_type": "code",
   "execution_count": 12,
   "metadata": {},
   "outputs": [],
   "source": [
    "train_loader = Data.DataLoader(train_data, \n",
    "                               batch_size = batch_size, \n",
    "                               shuffle = False, \n",
    "                               drop_last = True)"
   ]
  },
  {
   "cell_type": "markdown",
   "metadata": {},
   "source": [
    "## 4. Build Recurrent Neural Network Model\n",
    "I will implement three variants of RNNs, Vanilla RNN, LSTM and GRU.\n",
    "### 4.1 Vanilla RNN"
   ]
  },
  {
   "cell_type": "code",
   "execution_count": 13,
   "metadata": {},
   "outputs": [],
   "source": [
    "class RNN(nn.Module):\n",
    "    def __init__(self, input_size, hidden_size, num_layers, output_size):\n",
    "        super(RNN, self).__init__()\n",
    "        \n",
    "        self.input_size = input_size\n",
    "        self.hidden_size = hidden_size\n",
    "        self.num_layers = num_layers\n",
    "        self.output_size = output_size\n",
    "        \n",
    "        self.hidden = torch.zeros(num_layers, 1, hidden_size)\n",
    "        \n",
    "        self.rnn = nn.RNN(input_size, \n",
    "                          hidden_size, \n",
    "                          num_layers,             # number of recurrent layers\n",
    "                          batch_first = True,    # Default: False\n",
    "                                                  # If True, layer does not use bias weights\n",
    "                          nonlinearity = 'relu',  # 'tanh' or 'relu'\n",
    "                          #dropout = 0.5\n",
    "                         )\n",
    "        \n",
    "        self.fc = nn.Linear(hidden_size, output_size)\n",
    "        \n",
    "    def forward(self, x):\n",
    "        # input shape of (batch, seq_len, input_size)\n",
    "        # output shape of (batch, seq_len, hidden_size)\n",
    "        out, hidden = self.rnn(x, self.hidden)\n",
    "        self.hidden = hidden\n",
    "        \n",
    "        # output shape of (batch_, seq_len, output_size)\n",
    "        out = self.fc(out)\n",
    "        return out\n",
    "    \n",
    "    def init_hidden(self, batch_size):\n",
    "        # hidden shape of (num_layers, batch, hidden_size)\n",
    "        self.hidden = torch.zeros(self.num_layers, batch_size, self.hidden_size)"
   ]
  },
  {
   "cell_type": "code",
   "execution_count": 14,
   "metadata": {},
   "outputs": [],
   "source": [
    "rnn = RNN(input_size, hidden_size, num_layers, output_size).to(device)"
   ]
  },
  {
   "cell_type": "code",
   "execution_count": 15,
   "metadata": {},
   "outputs": [
    {
     "data": {
      "text/plain": [
       "RNN(\n",
       "  (rnn): RNN(1, 50, num_layers=3, batch_first=True)\n",
       "  (fc): Linear(in_features=50, out_features=1, bias=True)\n",
       ")"
      ]
     },
     "execution_count": 15,
     "metadata": {},
     "output_type": "execute_result"
    }
   ],
   "source": [
    "rnn"
   ]
  },
  {
   "cell_type": "markdown",
   "metadata": {},
   "source": [
    "### 4.2 LSTM\n",
    "Recurrent Neural Networks (Vanilla RNNs) are very forgetful and they are ineffective when it comes to long-term memory. In other words, the issue of gradient vanishing arises in RNN. Thus, Long Short Term Memory (LSTMs) are introduced to overcome this weakness, not being to preserve errors backpropagated through time and layers. Detailed description on how LSTM works is written [here](https://colah.github.io/posts/2015-08-Understanding-LSTMs/) but you don't have to know its process to implement and exploit LSTM. \n",
    "![LSTM](./Images/LSTM.png)\n",
    "\n",
    "Related Paper is [Long Short-Term Memory](https://www.bioinf.jku.at/publications/older/2604.pdf)."
   ]
  },
  {
   "cell_type": "code",
   "execution_count": 16,
   "metadata": {},
   "outputs": [],
   "source": [
    "class LSTM(nn.Module):\n",
    "    def __init__(self, input_size, hidden_size, num_layers, output_size):\n",
    "        super(LSTM, self).__init__()\n",
    "        \n",
    "        self.input_size = input_size\n",
    "        self.hidden_size = hidden_size\n",
    "        self.num_layers = num_layers\n",
    "        self.output_size = output_size\n",
    "        \n",
    "        self.hidden = torch.zeros(num_layers, 1, hidden_size)\n",
    "        \n",
    "        self.lstm = nn.LSTM(input_size, \n",
    "                            hidden_size, \n",
    "                            num_layers, \n",
    "                            batch_first = True, \n",
    "                            bidirectional = False, \n",
    "                            dropout = 0.3)\n",
    "        \n",
    "        self.fc = nn.Linear(hidden_size, output_size)\n",
    "        \n",
    "    def forward(self, x):\n",
    "        # Set initial hidden and cell states\n",
    "        out, (hidden, cell) = self.lstm(x, (self.hidden, self.cell))\n",
    "        self.hidden = hidden\n",
    "        self.cell = cell\n",
    "        \n",
    "        #out, (hidden, cell) = self.lstm(x, (h0, c0))\n",
    "        out = self.fc(out)\n",
    "        return out\n",
    "    \n",
    "    def init_hidden(self, batch_size):\n",
    "        self.hidden = torch.zeros(self.num_layers, batch_size, self.hidden_size)\n",
    "        self.cell = torch.zeros(self.num_layers, batch_size, self.hidden_size)"
   ]
  },
  {
   "cell_type": "code",
   "execution_count": 17,
   "metadata": {},
   "outputs": [],
   "source": [
    "lstm = LSTM(input_size, hidden_size, num_layers, output_size).to(device)"
   ]
  },
  {
   "cell_type": "code",
   "execution_count": 18,
   "metadata": {},
   "outputs": [
    {
     "data": {
      "text/plain": [
       "LSTM(\n",
       "  (lstm): LSTM(1, 50, num_layers=3, batch_first=True, dropout=0.3)\n",
       "  (fc): Linear(in_features=50, out_features=1, bias=True)\n",
       ")"
      ]
     },
     "execution_count": 18,
     "metadata": {},
     "output_type": "execute_result"
    }
   ],
   "source": [
    "lstm"
   ]
  },
  {
   "cell_type": "markdown",
   "metadata": {},
   "source": [
    "### 4.3 GRU\n",
    "GRU, Gradient Recurrent Unit, is a newer version of Recurrent Neural Network models and similar to LSTM. It just removed the cell state and used the hidden state to process information. Thus, it has only two gates, a reset gate and update gate. The information on how GRU networks work is described [here](https://towardsdatascience.com/understanding-gru-networks-2ef37df6c9be).\n",
    "![GRU](./Images/GRU.png)\n",
    "\n",
    "Related paper is [Empirical Evaluation of Gated Recurrent Neural Networks on Sequence Modeling](https://arxiv.org/pdf/1412.3555.pdf)."
   ]
  },
  {
   "cell_type": "code",
   "execution_count": 19,
   "metadata": {},
   "outputs": [],
   "source": [
    "class GRU(nn.Module):\n",
    "    def __init__(self, input_size, hidden_size, num_layers, output_size):\n",
    "        super(GRU, self).__init__()\n",
    "        \n",
    "        self.input_size = input_size\n",
    "        self.hidden_size = hidden_size\n",
    "        self.num_layers = num_layers\n",
    "        self.output_size = output_size\n",
    "        \n",
    "        self.hidden = torch.zeros(num_layers, 1, hidden_size)\n",
    "        \n",
    "        self.gru = nn.GRU(input_size, \n",
    "                          hidden_size, \n",
    "                          num_layers, \n",
    "                          batch_first = True, \n",
    "                          bidirectional = False, \n",
    "                          dropout = 0.2)\n",
    "        \n",
    "        self.fc = nn.Linear(hidden_size, output_size)\n",
    "        \n",
    "    def forward(self, x):\n",
    "        # Set initial hidden and cell states\n",
    "        out, hidden = self.gru(x, self.hidden)\n",
    "        self.hidden = hidden\n",
    "        \n",
    "        #out, (hidden, cell) = self.lstm(x, (h0, c0))\n",
    "        out = self.fc(out)\n",
    "        return out\n",
    "    \n",
    "    def init_hidden(self, batch_size):\n",
    "        self.hidden = torch.zeros(self.num_layers, batch_size, self.hidden_size)"
   ]
  },
  {
   "cell_type": "code",
   "execution_count": 20,
   "metadata": {},
   "outputs": [],
   "source": [
    "gru = GRU(input_size, hidden_size, num_layers, output_size).to(device)"
   ]
  },
  {
   "cell_type": "code",
   "execution_count": 21,
   "metadata": {},
   "outputs": [
    {
     "data": {
      "text/plain": [
       "GRU(\n",
       "  (gru): GRU(1, 50, num_layers=3, batch_first=True, dropout=0.2)\n",
       "  (fc): Linear(in_features=50, out_features=1, bias=True)\n",
       ")"
      ]
     },
     "execution_count": 21,
     "metadata": {},
     "output_type": "execute_result"
    }
   ],
   "source": [
    "gru"
   ]
  },
  {
   "cell_type": "markdown",
   "metadata": {},
   "source": [
    "## 5. Train the Model\n",
    "\n",
    "`MSELoss` means Mean Squared Loss and `Adam` means Adam Optimizer with learning rate of 0.001. Different from training of CNN model, I added `nn.utils.clip_grad_norm_` to prevent gradient exploding problem. "
   ]
  },
  {
   "cell_type": "code",
   "execution_count": 22,
   "metadata": {},
   "outputs": [],
   "source": [
    "def train(model, num_epochs):\n",
    "    \n",
    "    criterion = nn.MSELoss()\n",
    "    optimizer = optim.Adam(model.parameters(), lr = learning_rate)\n",
    "    \n",
    "    for epoch in range(num_epochs):\n",
    "\n",
    "        for i, (sequences, labels) in enumerate(train_loader):\n",
    "\n",
    "            model.init_hidden(batch_size)\n",
    "\n",
    "            sequences = sequences.view(-1, window, 1)\n",
    "            labels = labels.view(-1, window, 1)\n",
    "            \n",
    "            pred = model(sequences)\n",
    "            cost = criterion(pred[-1], labels[-1])\n",
    "            \n",
    "            optimizer.zero_grad()\n",
    "            cost.backward()\n",
    "            \n",
    "            # prevent gradient exploding problem\n",
    "            nn.utils.clip_grad_norm_(model.parameters(), 5)\n",
    "            \n",
    "            optimizer.step()\n",
    "    \n",
    "        print(\"Epoch [%d/%d] Loss %.4f\"%(epoch+1, num_epochs, cost.item()))\n",
    "    \n",
    "    print(\"Training Finished!\")"
   ]
  },
  {
   "cell_type": "code",
   "execution_count": 23,
   "metadata": {
    "scrolled": true
   },
   "outputs": [
    {
     "name": "stdout",
     "output_type": "stream",
     "text": [
      "Epoch [1/150] Loss 22865.6816\n",
      "Epoch [2/150] Loss 2311.3613\n",
      "Epoch [3/150] Loss 4580.8110\n",
      "Epoch [4/150] Loss 1107.7328\n",
      "Epoch [5/150] Loss 1281.5402\n",
      "Epoch [6/150] Loss 2751.8538\n",
      "Epoch [7/150] Loss 2305.1577\n",
      "Epoch [8/150] Loss 4213.8809\n",
      "Epoch [9/150] Loss 2762.3000\n",
      "Epoch [10/150] Loss 1200.9888\n",
      "Epoch [11/150] Loss 1001.3839\n",
      "Epoch [12/150] Loss 1148.1423\n",
      "Epoch [13/150] Loss 950.5982\n",
      "Epoch [14/150] Loss 1991.4315\n",
      "Epoch [15/150] Loss 1997.9072\n",
      "Epoch [16/150] Loss 1326.9019\n",
      "Epoch [17/150] Loss 1105.4576\n",
      "Epoch [18/150] Loss 1558.2930\n",
      "Epoch [19/150] Loss 2238.4297\n",
      "Epoch [20/150] Loss 1352.3623\n",
      "Epoch [21/150] Loss 1291.0302\n",
      "Epoch [22/150] Loss 1447.6685\n",
      "Epoch [23/150] Loss 1271.8508\n",
      "Epoch [24/150] Loss 1048.0983\n",
      "Epoch [25/150] Loss 1700.5388\n",
      "Epoch [26/150] Loss 1034.2921\n",
      "Epoch [27/150] Loss 2475.5317\n",
      "Epoch [28/150] Loss 2378.2297\n",
      "Epoch [29/150] Loss 1414.8904\n",
      "Epoch [30/150] Loss 1883.5282\n",
      "Epoch [31/150] Loss 1270.7339\n",
      "Epoch [32/150] Loss 2870.8228\n",
      "Epoch [33/150] Loss 2505.8184\n",
      "Epoch [34/150] Loss 1698.2429\n",
      "Epoch [35/150] Loss 1446.4399\n",
      "Epoch [36/150] Loss 2730.7493\n",
      "Epoch [37/150] Loss 1078.5435\n",
      "Epoch [38/150] Loss 1532.0070\n",
      "Epoch [39/150] Loss 3562.2051\n",
      "Epoch [40/150] Loss 2232.8589\n",
      "Epoch [41/150] Loss 2127.5374\n",
      "Epoch [42/150] Loss 1031.0784\n",
      "Epoch [43/150] Loss 1512.2900\n",
      "Epoch [44/150] Loss 1390.8303\n",
      "Epoch [45/150] Loss 1928.0585\n",
      "Epoch [46/150] Loss 1987.6451\n",
      "Epoch [47/150] Loss 1548.5107\n",
      "Epoch [48/150] Loss 1646.2429\n",
      "Epoch [49/150] Loss 1018.6597\n",
      "Epoch [50/150] Loss 4299.9839\n",
      "Epoch [51/150] Loss 2886.7327\n",
      "Epoch [52/150] Loss 1258.3633\n",
      "Epoch [53/150] Loss 988.5981\n",
      "Epoch [54/150] Loss 967.7946\n",
      "Epoch [55/150] Loss 1319.2931\n",
      "Epoch [56/150] Loss 1222.4084\n",
      "Epoch [57/150] Loss 3051.3049\n",
      "Epoch [58/150] Loss 3168.0337\n",
      "Epoch [59/150] Loss 1353.1973\n",
      "Epoch [60/150] Loss 1242.9191\n",
      "Epoch [61/150] Loss 953.8980\n",
      "Epoch [62/150] Loss 1242.3844\n",
      "Epoch [63/150] Loss 1023.6741\n",
      "Epoch [64/150] Loss 2675.8872\n",
      "Epoch [65/150] Loss 1382.4159\n",
      "Epoch [66/150] Loss 1279.0183\n",
      "Epoch [67/150] Loss 1656.2443\n",
      "Epoch [68/150] Loss 1298.3989\n",
      "Epoch [69/150] Loss 3078.9197\n",
      "Epoch [70/150] Loss 3791.6499\n",
      "Epoch [71/150] Loss 3558.5034\n",
      "Epoch [72/150] Loss 1316.9551\n",
      "Epoch [73/150] Loss 1376.4097\n",
      "Epoch [74/150] Loss 1069.9985\n",
      "Epoch [75/150] Loss 1257.9154\n",
      "Epoch [76/150] Loss 2304.5337\n",
      "Epoch [77/150] Loss 1074.2124\n",
      "Epoch [78/150] Loss 1553.4381\n",
      "Epoch [79/150] Loss 3085.7769\n",
      "Epoch [80/150] Loss 1617.8230\n",
      "Epoch [81/150] Loss 2348.4414\n",
      "Epoch [82/150] Loss 1651.6692\n",
      "Epoch [83/150] Loss 1094.0721\n",
      "Epoch [84/150] Loss 2561.8064\n",
      "Epoch [85/150] Loss 1292.7480\n",
      "Epoch [86/150] Loss 1370.7186\n",
      "Epoch [87/150] Loss 1088.3131\n",
      "Epoch [88/150] Loss 2671.7764\n",
      "Epoch [89/150] Loss 1523.2745\n",
      "Epoch [90/150] Loss 2234.1963\n",
      "Epoch [91/150] Loss 1379.2920\n",
      "Epoch [92/150] Loss 1367.2489\n",
      "Epoch [93/150] Loss 1669.6394\n",
      "Epoch [94/150] Loss 1530.2179\n",
      "Epoch [95/150] Loss 1283.8112\n",
      "Epoch [96/150] Loss 1388.7428\n",
      "Epoch [97/150] Loss 1952.9153\n",
      "Epoch [98/150] Loss 1768.7959\n",
      "Epoch [99/150] Loss 1180.9065\n",
      "Epoch [100/150] Loss 1580.4250\n",
      "Epoch [101/150] Loss 1709.7614\n",
      "Epoch [102/150] Loss 1139.2745\n",
      "Epoch [103/150] Loss 1950.2844\n",
      "Epoch [104/150] Loss 2020.8741\n",
      "Epoch [105/150] Loss 949.3478\n",
      "Epoch [106/150] Loss 2682.6567\n",
      "Epoch [107/150] Loss 1302.9192\n",
      "Epoch [108/150] Loss 1302.2130\n",
      "Epoch [109/150] Loss 1115.5670\n",
      "Epoch [110/150] Loss 2663.7695\n",
      "Epoch [111/150] Loss 1023.7964\n",
      "Epoch [112/150] Loss 1175.6088\n",
      "Epoch [113/150] Loss 1478.9672\n",
      "Epoch [114/150] Loss 1675.1627\n",
      "Epoch [115/150] Loss 970.2737\n",
      "Epoch [116/150] Loss 1068.6694\n",
      "Epoch [117/150] Loss 1341.6570\n",
      "Epoch [118/150] Loss 1120.9268\n",
      "Epoch [119/150] Loss 1030.3915\n",
      "Epoch [120/150] Loss 1330.5059\n",
      "Epoch [121/150] Loss 2138.9492\n",
      "Epoch [122/150] Loss 2507.7568\n",
      "Epoch [123/150] Loss 1534.8884\n",
      "Epoch [124/150] Loss 2286.6069\n",
      "Epoch [125/150] Loss 1133.0118\n",
      "Epoch [126/150] Loss 1004.7843\n",
      "Epoch [127/150] Loss 1314.4048\n",
      "Epoch [128/150] Loss 2492.1411\n",
      "Epoch [129/150] Loss 1208.4642\n",
      "Epoch [130/150] Loss 1079.7847\n",
      "Epoch [131/150] Loss 1710.4031\n",
      "Epoch [132/150] Loss 1405.9199\n",
      "Epoch [133/150] Loss 947.1149\n",
      "Epoch [134/150] Loss 1585.6995\n",
      "Epoch [135/150] Loss 1047.8665\n",
      "Epoch [136/150] Loss 1214.8872\n",
      "Epoch [137/150] Loss 1012.1440\n",
      "Epoch [138/150] Loss 1219.9546\n",
      "Epoch [139/150] Loss 1146.3252\n",
      "Epoch [140/150] Loss 1990.7736\n",
      "Epoch [141/150] Loss 1040.8167\n",
      "Epoch [142/150] Loss 1397.1227\n",
      "Epoch [143/150] Loss 1664.4207\n",
      "Epoch [144/150] Loss 1325.4523\n",
      "Epoch [145/150] Loss 1066.0809\n",
      "Epoch [146/150] Loss 1768.5602\n",
      "Epoch [147/150] Loss 1214.2048\n",
      "Epoch [148/150] Loss 1392.6986\n",
      "Epoch [149/150] Loss 1155.0592\n",
      "Epoch [150/150] Loss 1431.8716\n",
      "Training Finished!\n"
     ]
    }
   ],
   "source": [
    "train(rnn, 150)"
   ]
  },
  {
   "cell_type": "markdown",
   "metadata": {},
   "source": [
    "## 6. Test the Model"
   ]
  },
  {
   "cell_type": "code",
   "execution_count": 26,
   "metadata": {},
   "outputs": [],
   "source": [
    "def evaluation(model):\n",
    "    model.eval()\n",
    "    model.init_hidden(1)\n",
    "    \n",
    "    val_day = 30\n",
    "    dates = data['Date(UTC)'][1049+window:1049+window+val_day]\n",
    "    \n",
    "    pred_X = []\n",
    "    \n",
    "    for i in range(val_day):\n",
    "        X = torch.from_numpy(test_data[i:window+i].values).type(torch.FloatTensor)\n",
    "        X = X.view(1, window, 1).to(device)\n",
    "\n",
    "        pred = model(X)\n",
    "        pred = pred.reshape(-1)\n",
    "        pred = pred.cpu().data.numpy()\n",
    "\n",
    "        pred_X.append(pred[-1])\n",
    "\n",
    "    y = test_data[window:window+val_day].values\n",
    "    \n",
    "    plt.figure(figsize = (12, 8))\n",
    "    plt.plot(dates, y, 'o-', alpha = 0.7, label = 'Real')\n",
    "    plt.plot(dates, pred, '*-', alpha = 0.7, label = 'Predict')\n",
    "    \n",
    "    plt.xticks(rotation = 45)\n",
    "    plt.xlabel(\"Date\")\n",
    "    plt.ylabel(\"Ethereum Price (USD)\")\n",
    "    plt.legend()\n",
    "    \n",
    "    plt.title(\"Comparison between Prediction and Real Ethereum BitCoin Price\")\n",
    "    plt.show()"
   ]
  },
  {
   "cell_type": "code",
   "execution_count": 27,
   "metadata": {
    "scrolled": false
   },
   "outputs": [
    {
     "data": {
      "image/png": "[encoded data removed]",
      "text/plain": [
       "<Figure size 864x576 with 1 Axes>"
      ]
     },
     "metadata": {
      "needs_background": "light"
     },
     "output_type": "display_data"
    }
   ],
   "source": [
    "evaluation(rnn)"
   ]
  },
  {
   "cell_type": "markdown",
   "metadata": {},
   "source": [
    "The predicted price roughly follows the tendency of price change but the absolute value of price differs a bit from real price. However, considering the huge variation of price, its prediction is not really bad. It can be improved by modifying model paramters and hyper parameters."
   ]
  },
  {
   "cell_type": "markdown",
   "metadata": {},
   "source": [
    "## 7. Save the Model\n",
    "We may need to save the model for future use."
   ]
  },
  {
   "cell_type": "code",
   "execution_count": 28,
   "metadata": {},
   "outputs": [],
   "source": [
    "# Save the model checkpoint\n",
    "save_path = './model/'\n",
    "\n",
    "if not os.path.exists(save_path):\n",
    "    os.makedirs(save_path)\n",
    "\n",
    "torch.save(rnn.state_dict(), 'rnn.ckpt')"
   ]
  },
  {
   "cell_type": "markdown",
   "metadata": {},
   "source": [
    "## 8. Further References\n",
    "- [A Beginner’s Guide on Recurrent Neural Networks with PyTorch](https://blog.floydhub.com/a-beginners-guide-on-recurrent-neural-networks-with-pytorch/)\n",
    "- [Illustrated Guide to LSTM’s and GRU’s: A step by step explanation](https://towardsdatascience.com/illustrated-guide-to-lstms-and-gru-s-a-step-by-step-explanation-44e9eb85bf21)\n",
    "- [Predict Bitcoin price with LSTM](https://sergioskar.github.io/Bitcon_prediction_LSTM/)"
   ]
  },
  {
   "cell_type": "code",
   "execution_count": null,
   "metadata": {},
   "outputs": [],
   "source": []
  }
 ],
 "metadata": {
  "kernelspec": {
   "display_name": "Python 3",
   "language": "python",
   "name": "python3"
  },
  "language_info": {
   "codemirror_mode": {
    "name": "ipython",
    "version": 3
   },
   "file_extension": ".py",
   "mimetype": "text/x-python",
   "name": "python",
   "nbconvert_exporter": "python",
   "pygments_lexer": "ipython3",
   "version": "3.7.3"
  }
 },
 "nbformat": 4,
 "nbformat_minor": 2
}
